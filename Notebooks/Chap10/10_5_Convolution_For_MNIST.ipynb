{
  "nbformat": 4,
  "nbformat_minor": 0,
  "metadata": {
    "colab": {
      "provenance": [],
      "include_colab_link": true
    },
    "kernelspec": {
      "name": "python3",
      "display_name": "Python 3"
    },
    "language_info": {
      "name": "python"
    }
  },
  "cells": [
    {
      "cell_type": "markdown",
      "metadata": {
        "id": "view-in-github",
        "colab_type": "text"
      },
      "source": [
        "<a href=\"https://colab.research.google.com/github/conradmutai/DeepLearningSpecializationNotebooks/blob/main/Notebooks/Chap10/10_5_Convolution_For_MNIST.ipynb\" target=\"_parent\"><img src=\"https://colab.research.google.com/assets/colab-badge.svg\" alt=\"Open In Colab\"/></a>"
      ]
    },
    {
      "cell_type": "markdown",
      "source": [
        "# **Notebook 10.5: Convolution for MNIST**\n",
        "\n",
        "This notebook builds a proper network for 2D convolution.  It works with the MNIST dataset (figure 15.15a), which was the original classic dataset for classifying images.  The network will take a 28x28 grayscale image and classify it into one of 10 classes representing a digit.\n",
        "\n",
        "The code is adapted from https://nextjournal.com/gkoehler/pytorch-mnist\n",
        "\n",
        "Work through the cells below, running each cell in turn. In various places you will see the words \"TODO\". Follow the instructions at these places and make predictions about what is going to happen or write code to complete the functions.\n",
        "\n",
        "Contact me at udlbookmail@gmail.com if you find any mistakes or have any suggestions.\n"
      ],
      "metadata": {
        "id": "t9vk9Elugvmi"
      }
    },
    {
      "cell_type": "code",
      "source": [
        "import torch\n",
        "import torchvision\n",
        "import torch.nn as nn\n",
        "import torch.nn.functional as F\n",
        "import torch.optim as optim\n",
        "import matplotlib.pyplot as plt\n",
        "import random"
      ],
      "metadata": {
        "id": "YrXWAH7sUWvU"
      },
      "execution_count": 1,
      "outputs": []
    },
    {
      "cell_type": "code",
      "source": [
        "# Run this once to load the train and test data straight into a dataloader class\n",
        "# that will provide the batches\n",
        "\n",
        "# (It may complain that some files are missing because the files seem to have been\n",
        "# reorganized on the underlying website, but it still seems to work). If everything is working\n",
        "# properly, then the whole notebook should run to the end without further problems\n",
        "# even before you make changes.\n",
        "batch_size_train = 64\n",
        "batch_size_test = 1000\n",
        "\n",
        "# TODO Change this directory to point towards an existing directory\n",
        "myDir = '/files/'\n",
        "\n",
        "train_loader = torch.utils.data.DataLoader(\n",
        "  torchvision.datasets.MNIST(myDir, train=True, download=True,\n",
        "                             transform=torchvision.transforms.Compose([\n",
        "                               torchvision.transforms.ToTensor(),\n",
        "                               torchvision.transforms.Normalize(\n",
        "                                 (0.1307,), (0.3081,))\n",
        "                             ])),\n",
        "  batch_size=batch_size_train, shuffle=True)\n",
        "\n",
        "test_loader = torch.utils.data.DataLoader(\n",
        "  torchvision.datasets.MNIST(myDir, train=False, download=True,\n",
        "                             transform=torchvision.transforms.Compose([\n",
        "                               torchvision.transforms.ToTensor(),\n",
        "                               torchvision.transforms.Normalize(\n",
        "                                 (0.1307,), (0.3081,))\n",
        "                             ])),\n",
        "  batch_size=batch_size_test, shuffle=True)"
      ],
      "metadata": {
        "id": "wScBGXXFVadm",
        "colab": {
          "base_uri": "https://localhost:8080/"
        },
        "outputId": "16ec70cd-2992-4b59-ab99-4a07c917933e"
      },
      "execution_count": 2,
      "outputs": [
        {
          "output_type": "stream",
          "name": "stderr",
          "text": [
            "100%|██████████| 9.91M/9.91M [00:00<00:00, 57.1MB/s]\n",
            "100%|██████████| 28.9k/28.9k [00:00<00:00, 1.71MB/s]\n",
            "100%|██████████| 1.65M/1.65M [00:00<00:00, 14.6MB/s]\n",
            "100%|██████████| 4.54k/4.54k [00:00<00:00, 8.92MB/s]\n"
          ]
        }
      ]
    },
    {
      "cell_type": "code",
      "source": [
        "# Let's draw some of the training data\n",
        "examples = enumerate(test_loader)\n",
        "batch_idx, (example_data, example_targets) = next(examples)\n",
        "\n",
        "fig = plt.figure()\n",
        "for i in range(6):\n",
        "  plt.subplot(2,3,i+1)\n",
        "  plt.tight_layout()\n",
        "  plt.imshow(example_data[i][0], cmap='gray', interpolation='none')\n",
        "  plt.title(\"Ground Truth: {}\".format(example_targets[i]))\n",
        "  plt.xticks([])\n",
        "  plt.yticks([])\n",
        "plt.show()"
      ],
      "metadata": {
        "id": "8bKADvLHbiV5",
        "colab": {
          "base_uri": "https://localhost:8080/",
          "height": 438
        },
        "outputId": "3815fb6f-1b0c-40e6-8be3-990cfb1754e3"
      },
      "execution_count": 3,
      "outputs": [
        {
          "output_type": "display_data",
          "data": {
            "text/plain": [
              "<Figure size 640x480 with 6 Axes>"
            ],
            "image/png": "[encoded data removed]"
          },
          "metadata": {}
        }
      ]
    },
    {
      "cell_type": "markdown",
      "source": [
        "Define the network.  This is a more typical way to define a network than the sequential structure.  We define a class for the network, and define the parameters in the constructor.  Then we use a function called forward to actually run the network.  It's easy to see how you might use residual connections in this format."
      ],
      "metadata": {
        "id": "_sFvRDGrl4qe"
      }
    },
    {
      "cell_type": "code",
      "source": [
        "from os import X_OK\n",
        "# TODO Change this class to implement\n",
        "# 1. A valid convolution with kernel size 5, 1 input channel and 10 output channels\n",
        "# 2. A max pooling operation over a 2x2 area\n",
        "# 3. A Relu\n",
        "# 4. A valid convolution with kernel size 5, 10 input channels and 20 output channels\n",
        "# 5. A 2D Dropout layer\n",
        "# 6. A max pooling operation over a 2x2 area\n",
        "# 7. A relu\n",
        "# 8. A flattening operation\n",
        "# 9. A fully connected layer mapping from (whatever dimensions we are at-- find out using .shape) to 50\n",
        "# 10. A ReLU\n",
        "# 11. A fully connected layer mapping from 50 to 10 dimensions\n",
        "# 12. A softmax function.\n",
        "\n",
        "# Replace this class which implements a minimal network (which still does okay)\n",
        "class Net(nn.Module):\n",
        "    def __init__(self):\n",
        "        super(Net, self).__init__()\n",
        "        self.conv1 = nn.Conv2d(1, 10, kernel_size=5)\n",
        "        self.conv2 = nn.Conv2d(10, 20, kernel_size=5)\n",
        "        self.drop = nn.Dropout2d()\n",
        "        self.fc1 = nn.Linear(320, 50)\n",
        "        self.fc2 = nn.Linear(50, 10)\n",
        "\n",
        "    def forward(self, x):\n",
        "        x = self.conv1(x)\n",
        "        x = F.max_pool2d(x,2)\n",
        "        x = F.relu(x)\n",
        "        x = self.conv2(x)\n",
        "        x = self.drop(x)\n",
        "        x = F.max_pool2d(x,2)\n",
        "        x = F.relu(x)\n",
        "        x = x.flatten(1)\n",
        "        x = self.fc1(x)\n",
        "        x = F.relu(x)\n",
        "        x = self.fc2(x)\n",
        "        x = F.log_softmax(x)\n",
        "        return x"
      ],
      "metadata": {
        "id": "EQkvw2KOPVl7"
      },
      "execution_count": 18,
      "outputs": []
    },
    {
      "cell_type": "code",
      "source": [
        "# He initialization of weights\n",
        "def weights_init(layer_in):\n",
        "  if isinstance(layer_in, nn.Linear):\n",
        "    nn.init.kaiming_uniform_(layer_in.weight)\n",
        "    layer_in.bias.data.fill_(0.0)"
      ],
      "metadata": {
        "id": "qWZtkCZcU_dg"
      },
      "execution_count": 19,
      "outputs": []
    },
    {
      "cell_type": "code",
      "source": [
        "# Create network\n",
        "model = Net()\n",
        "# Initialize model weights\n",
        "model.apply(weights_init)\n",
        "# Define optimizer\n",
        "optimizer = optim.SGD(model.parameters(), lr=0.01, momentum=0.5)"
      ],
      "metadata": {
        "id": "FslroPJJffrh"
      },
      "execution_count": 20,
      "outputs": []
    },
    {
      "cell_type": "code",
      "source": [
        "# Main training routine\n",
        "def train(epoch):\n",
        "  model.train()\n",
        "  # Get each\n",
        "  for batch_idx, (data, target) in enumerate(train_loader):\n",
        "    optimizer.zero_grad()\n",
        "    output = model(data)\n",
        "    loss = F.nll_loss(output, target)\n",
        "    loss.backward()\n",
        "    optimizer.step()\n",
        "    # Store results\n",
        "    if batch_idx % 10 == 0:\n",
        "      print('Train Epoch: {} [{}/{}]\\tLoss: {:.6f}'.format(\n",
        "        epoch, batch_idx * len(data), len(train_loader.dataset), loss.item()))"
      ],
      "metadata": {
        "id": "xKQd9PzkQ766"
      },
      "execution_count": 21,
      "outputs": []
    },
    {
      "cell_type": "code",
      "source": [
        "# Run on test data\n",
        "def test():\n",
        "  model.eval()\n",
        "  test_loss = 0\n",
        "  correct = 0\n",
        "  with torch.no_grad():\n",
        "    for data, target in test_loader:\n",
        "      output = model(data)\n",
        "      test_loss += F.nll_loss(output, target, size_average=False).item()\n",
        "      pred = output.data.max(1, keepdim=True)[1]\n",
        "      correct += pred.eq(target.data.view_as(pred)).sum()\n",
        "  test_loss /= len(test_loader.dataset)\n",
        "  print('\\nTest set: Avg. loss: {:.4f}, Accuracy: {}/{} ({:.0f}%)\\n'.format(\n",
        "    test_loss, correct, len(test_loader.dataset),\n",
        "    100. * correct / len(test_loader.dataset)))"
      ],
      "metadata": {
        "id": "Byn-f7qWRLxX"
      },
      "execution_count": 22,
      "outputs": []
    },
    {
      "cell_type": "code",
      "source": [
        "# Get initial performance\n",
        "test()\n",
        "# Train for three epochs\n",
        "n_epochs = 3\n",
        "for epoch in range(1, n_epochs + 1):\n",
        "  train(epoch)\n",
        "  test()"
      ],
      "metadata": {
        "id": "YgLaex1pfhqz",
        "colab": {
          "base_uri": "https://localhost:8080/"
        },
        "outputId": "fa88628b-c5c9-438d-bf26-2b2ec421d681"
      },
      "execution_count": 23,
      "outputs": [
        {
          "output_type": "stream",
          "name": "stderr",
          "text": [
            "/tmp/ipython-input-3005136420.py:38: UserWarning: Implicit dimension choice for log_softmax has been deprecated. Change the call to include dim=X as an argument.\n",
            "  x = F.log_softmax(x)\n",
            "/usr/local/lib/python3.12/dist-packages/torch/nn/_reduction.py:51: UserWarning: size_average and reduce args will be deprecated, please use reduction='sum' instead.\n",
            "  warnings.warn(warning.format(ret))\n"
          ]
        },
        {
          "output_type": "stream",
          "name": "stdout",
          "text": [
            "\n",
            "Test set: Avg. loss: 2.4538, Accuracy: 1093/10000 (11%)\n",
            "\n",
            "Train Epoch: 1 [0/60000]\tLoss: 2.629571\n",
            "Train Epoch: 1 [640/60000]\tLoss: 2.258712\n",
            "Train Epoch: 1 [1280/60000]\tLoss: 2.109758\n",
            "Train Epoch: 1 [1920/60000]\tLoss: 1.983559\n",
            "Train Epoch: 1 [2560/60000]\tLoss: 1.760922\n",
            "Train Epoch: 1 [3200/60000]\tLoss: 1.516002\n",
            "Train Epoch: 1 [3840/60000]\tLoss: 1.374979\n",
            "Train Epoch: 1 [4480/60000]\tLoss: 1.116395\n",
            "Train Epoch: 1 [5120/60000]\tLoss: 1.064396\n",
            "Train Epoch: 1 [5760/60000]\tLoss: 0.975481\n",
            "Train Epoch: 1 [6400/60000]\tLoss: 0.877131\n",
            "Train Epoch: 1 [7040/60000]\tLoss: 0.881847\n",
            "Train Epoch: 1 [7680/60000]\tLoss: 0.845026\n",
            "Train Epoch: 1 [8320/60000]\tLoss: 0.861775\n",
            "Train Epoch: 1 [8960/60000]\tLoss: 0.837908\n",
            "Train Epoch: 1 [9600/60000]\tLoss: 0.560932\n",
            "Train Epoch: 1 [10240/60000]\tLoss: 0.660209\n",
            "Train Epoch: 1 [10880/60000]\tLoss: 0.699031\n",
            "Train Epoch: 1 [11520/60000]\tLoss: 0.740412\n",
            "Train Epoch: 1 [12160/60000]\tLoss: 0.753452\n",
            "Train Epoch: 1 [12800/60000]\tLoss: 0.533359\n",
            "Train Epoch: 1 [13440/60000]\tLoss: 0.424819\n",
            "Train Epoch: 1 [14080/60000]\tLoss: 0.643113\n",
            "Train Epoch: 1 [14720/60000]\tLoss: 0.555331\n",
            "Train Epoch: 1 [15360/60000]\tLoss: 0.552023\n",
            "Train Epoch: 1 [16000/60000]\tLoss: 0.466351\n",
            "Train Epoch: 1 [16640/60000]\tLoss: 0.628165\n",
            "Train Epoch: 1 [17280/60000]\tLoss: 0.350380\n",
            "Train Epoch: 1 [17920/60000]\tLoss: 0.440591\n",
            "Train Epoch: 1 [18560/60000]\tLoss: 0.463987\n",
            "Train Epoch: 1 [19200/60000]\tLoss: 0.590170\n",
            "Train Epoch: 1 [19840/60000]\tLoss: 0.592146\n",
            "Train Epoch: 1 [20480/60000]\tLoss: 0.357138\n",
            "Train Epoch: 1 [21120/60000]\tLoss: 0.482249\n",
            "Train Epoch: 1 [21760/60000]\tLoss: 0.228906\n",
            "Train Epoch: 1 [22400/60000]\tLoss: 0.416798\n",
            "Train Epoch: 1 [23040/60000]\tLoss: 0.183628\n",
            "Train Epoch: 1 [23680/60000]\tLoss: 0.478503\n",
            "Train Epoch: 1 [24320/60000]\tLoss: 0.455379\n",
            "Train Epoch: 1 [24960/60000]\tLoss: 0.205928\n",
            "Train Epoch: 1 [25600/60000]\tLoss: 0.548939\n",
            "Train Epoch: 1 [26240/60000]\tLoss: 0.772264\n",
            "Train Epoch: 1 [26880/60000]\tLoss: 0.358232\n",
            "Train Epoch: 1 [27520/60000]\tLoss: 0.328728\n",
            "Train Epoch: 1 [28160/60000]\tLoss: 0.409776\n",
            "Train Epoch: 1 [28800/60000]\tLoss: 0.302915\n",
            "Train Epoch: 1 [29440/60000]\tLoss: 0.405736\n",
            "Train Epoch: 1 [30080/60000]\tLoss: 0.434485\n",
            "Train Epoch: 1 [30720/60000]\tLoss: 0.321483\n",
            "Train Epoch: 1 [31360/60000]\tLoss: 0.471951\n",
            "Train Epoch: 1 [32000/60000]\tLoss: 0.313795\n",
            "Train Epoch: 1 [32640/60000]\tLoss: 0.441716\n",
            "Train Epoch: 1 [33280/60000]\tLoss: 0.224632\n",
            "Train Epoch: 1 [33920/60000]\tLoss: 0.220779\n",
            "Train Epoch: 1 [34560/60000]\tLoss: 0.324890\n",
            "Train Epoch: 1 [35200/60000]\tLoss: 0.477023\n",
            "Train Epoch: 1 [35840/60000]\tLoss: 0.179843\n",
            "Train Epoch: 1 [36480/60000]\tLoss: 0.381662\n",
            "Train Epoch: 1 [37120/60000]\tLoss: 0.294840\n",
            "Train Epoch: 1 [37760/60000]\tLoss: 0.415207\n",
            "Train Epoch: 1 [38400/60000]\tLoss: 0.295092\n",
            "Train Epoch: 1 [39040/60000]\tLoss: 0.289140\n",
            "Train Epoch: 1 [39680/60000]\tLoss: 0.123172\n",
            "Train Epoch: 1 [40320/60000]\tLoss: 0.388556\n",
            "Train Epoch: 1 [40960/60000]\tLoss: 0.285343\n",
            "Train Epoch: 1 [41600/60000]\tLoss: 0.157060\n",
            "Train Epoch: 1 [42240/60000]\tLoss: 0.215244\n",
            "Train Epoch: 1 [42880/60000]\tLoss: 0.366724\n",
            "Train Epoch: 1 [43520/60000]\tLoss: 0.190878\n",
            "Train Epoch: 1 [44160/60000]\tLoss: 0.226083\n",
            "Train Epoch: 1 [44800/60000]\tLoss: 0.259616\n",
            "Train Epoch: 1 [45440/60000]\tLoss: 0.326230\n",
            "Train Epoch: 1 [46080/60000]\tLoss: 0.266254\n",
            "Train Epoch: 1 [46720/60000]\tLoss: 0.236418\n",
            "Train Epoch: 1 [47360/60000]\tLoss: 0.369363\n",
            "Train Epoch: 1 [48000/60000]\tLoss: 0.300962\n",
            "Train Epoch: 1 [48640/60000]\tLoss: 0.362623\n",
            "Train Epoch: 1 [49280/60000]\tLoss: 0.372206\n",
            "Train Epoch: 1 [49920/60000]\tLoss: 0.393792\n",
            "Train Epoch: 1 [50560/60000]\tLoss: 0.297444\n",
            "Train Epoch: 1 [51200/60000]\tLoss: 0.381706\n",
            "Train Epoch: 1 [51840/60000]\tLoss: 0.183468\n",
            "Train Epoch: 1 [52480/60000]\tLoss: 0.156625\n",
            "Train Epoch: 1 [53120/60000]\tLoss: 0.241726\n",
            "Train Epoch: 1 [53760/60000]\tLoss: 0.173307\n",
            "Train Epoch: 1 [54400/60000]\tLoss: 0.223373\n",
            "Train Epoch: 1 [55040/60000]\tLoss: 0.138352\n",
            "Train Epoch: 1 [55680/60000]\tLoss: 0.249883\n",
            "Train Epoch: 1 [56320/60000]\tLoss: 0.249362\n",
            "Train Epoch: 1 [56960/60000]\tLoss: 0.400290\n",
            "Train Epoch: 1 [57600/60000]\tLoss: 0.180479\n",
            "Train Epoch: 1 [58240/60000]\tLoss: 0.395608\n",
            "Train Epoch: 1 [58880/60000]\tLoss: 0.278706\n",
            "Train Epoch: 1 [59520/60000]\tLoss: 0.332084\n",
            "\n",
            "Test set: Avg. loss: 0.1217, Accuracy: 9607/10000 (96%)\n",
            "\n",
            "Train Epoch: 2 [0/60000]\tLoss: 0.184694\n",
            "Train Epoch: 2 [640/60000]\tLoss: 0.386213\n",
            "Train Epoch: 2 [1280/60000]\tLoss: 0.106996\n",
            "Train Epoch: 2 [1920/60000]\tLoss: 0.346980\n",
            "Train Epoch: 2 [2560/60000]\tLoss: 0.305844\n",
            "Train Epoch: 2 [3200/60000]\tLoss: 0.202072\n",
            "Train Epoch: 2 [3840/60000]\tLoss: 0.286099\n",
            "Train Epoch: 2 [4480/60000]\tLoss: 0.238740\n",
            "Train Epoch: 2 [5120/60000]\tLoss: 0.193130\n",
            "Train Epoch: 2 [5760/60000]\tLoss: 0.466680\n",
            "Train Epoch: 2 [6400/60000]\tLoss: 0.190698\n",
            "Train Epoch: 2 [7040/60000]\tLoss: 0.101229\n",
            "Train Epoch: 2 [7680/60000]\tLoss: 0.317058\n",
            "Train Epoch: 2 [8320/60000]\tLoss: 0.097369\n",
            "Train Epoch: 2 [8960/60000]\tLoss: 0.258404\n",
            "Train Epoch: 2 [9600/60000]\tLoss: 0.316852\n",
            "Train Epoch: 2 [10240/60000]\tLoss: 0.130636\n",
            "Train Epoch: 2 [10880/60000]\tLoss: 0.232209\n",
            "Train Epoch: 2 [11520/60000]\tLoss: 0.169192\n",
            "Train Epoch: 2 [12160/60000]\tLoss: 0.146583\n",
            "Train Epoch: 2 [12800/60000]\tLoss: 0.177664\n",
            "Train Epoch: 2 [13440/60000]\tLoss: 0.282256\n",
            "Train Epoch: 2 [14080/60000]\tLoss: 0.277650\n",
            "Train Epoch: 2 [14720/60000]\tLoss: 0.165819\n",
            "Train Epoch: 2 [15360/60000]\tLoss: 0.284091\n",
            "Train Epoch: 2 [16000/60000]\tLoss: 0.218136\n",
            "Train Epoch: 2 [16640/60000]\tLoss: 0.210928\n",
            "Train Epoch: 2 [17280/60000]\tLoss: 0.202998\n",
            "Train Epoch: 2 [17920/60000]\tLoss: 0.164487\n",
            "Train Epoch: 2 [18560/60000]\tLoss: 0.230140\n",
            "Train Epoch: 2 [19200/60000]\tLoss: 0.157943\n",
            "Train Epoch: 2 [19840/60000]\tLoss: 0.206358\n",
            "Train Epoch: 2 [20480/60000]\tLoss: 0.363630\n",
            "Train Epoch: 2 [21120/60000]\tLoss: 0.327295\n",
            "Train Epoch: 2 [21760/60000]\tLoss: 0.124020\n",
            "Train Epoch: 2 [22400/60000]\tLoss: 0.126560\n",
            "Train Epoch: 2 [23040/60000]\tLoss: 0.111923\n",
            "Train Epoch: 2 [23680/60000]\tLoss: 0.124221\n",
            "Train Epoch: 2 [24320/60000]\tLoss: 0.254507\n",
            "Train Epoch: 2 [24960/60000]\tLoss: 0.192902\n",
            "Train Epoch: 2 [25600/60000]\tLoss: 0.284523\n",
            "Train Epoch: 2 [26240/60000]\tLoss: 0.274205\n",
            "Train Epoch: 2 [26880/60000]\tLoss: 0.288734\n",
            "Train Epoch: 2 [27520/60000]\tLoss: 0.155976\n",
            "Train Epoch: 2 [28160/60000]\tLoss: 0.123412\n",
            "Train Epoch: 2 [28800/60000]\tLoss: 0.142613\n",
            "Train Epoch: 2 [29440/60000]\tLoss: 0.196258\n",
            "Train Epoch: 2 [30080/60000]\tLoss: 0.192271\n",
            "Train Epoch: 2 [30720/60000]\tLoss: 0.309908\n",
            "Train Epoch: 2 [31360/60000]\tLoss: 0.166141\n",
            "Train Epoch: 2 [32000/60000]\tLoss: 0.203760\n",
            "Train Epoch: 2 [32640/60000]\tLoss: 0.270420\n",
            "Train Epoch: 2 [33280/60000]\tLoss: 0.129602\n",
            "Train Epoch: 2 [33920/60000]\tLoss: 0.151777\n",
            "Train Epoch: 2 [34560/60000]\tLoss: 0.149374\n",
            "Train Epoch: 2 [35200/60000]\tLoss: 0.196306\n",
            "Train Epoch: 2 [35840/60000]\tLoss: 0.174569\n",
            "Train Epoch: 2 [36480/60000]\tLoss: 0.111039\n",
            "Train Epoch: 2 [37120/60000]\tLoss: 0.157303\n",
            "Train Epoch: 2 [37760/60000]\tLoss: 0.114710\n",
            "Train Epoch: 2 [38400/60000]\tLoss: 0.264306\n",
            "Train Epoch: 2 [39040/60000]\tLoss: 0.144033\n",
            "Train Epoch: 2 [39680/60000]\tLoss: 0.113875\n",
            "Train Epoch: 2 [40320/60000]\tLoss: 0.172062\n",
            "Train Epoch: 2 [40960/60000]\tLoss: 0.100866\n",
            "Train Epoch: 2 [41600/60000]\tLoss: 0.088755\n",
            "Train Epoch: 2 [42240/60000]\tLoss: 0.097499\n",
            "Train Epoch: 2 [42880/60000]\tLoss: 0.151836\n",
            "Train Epoch: 2 [43520/60000]\tLoss: 0.226943\n",
            "Train Epoch: 2 [44160/60000]\tLoss: 0.248544\n",
            "Train Epoch: 2 [44800/60000]\tLoss: 0.116976\n",
            "Train Epoch: 2 [45440/60000]\tLoss: 0.203209\n",
            "Train Epoch: 2 [46080/60000]\tLoss: 0.220836\n",
            "Train Epoch: 2 [46720/60000]\tLoss: 0.220505\n",
            "Train Epoch: 2 [47360/60000]\tLoss: 0.268937\n",
            "Train Epoch: 2 [48000/60000]\tLoss: 0.255905\n",
            "Train Epoch: 2 [48640/60000]\tLoss: 0.268126\n",
            "Train Epoch: 2 [49280/60000]\tLoss: 0.172857\n",
            "Train Epoch: 2 [49920/60000]\tLoss: 0.024906\n",
            "Train Epoch: 2 [50560/60000]\tLoss: 0.309213\n",
            "Train Epoch: 2 [51200/60000]\tLoss: 0.129185\n",
            "Train Epoch: 2 [51840/60000]\tLoss: 0.087328\n",
            "Train Epoch: 2 [52480/60000]\tLoss: 0.210387\n",
            "Train Epoch: 2 [53120/60000]\tLoss: 0.128283\n",
            "Train Epoch: 2 [53760/60000]\tLoss: 0.131477\n",
            "Train Epoch: 2 [54400/60000]\tLoss: 0.179644\n",
            "Train Epoch: 2 [55040/60000]\tLoss: 0.335391\n",
            "Train Epoch: 2 [55680/60000]\tLoss: 0.090539\n",
            "Train Epoch: 2 [56320/60000]\tLoss: 0.241903\n",
            "Train Epoch: 2 [56960/60000]\tLoss: 0.255113\n",
            "Train Epoch: 2 [57600/60000]\tLoss: 0.098789\n",
            "Train Epoch: 2 [58240/60000]\tLoss: 0.210580\n",
            "Train Epoch: 2 [58880/60000]\tLoss: 0.078792\n",
            "Train Epoch: 2 [59520/60000]\tLoss: 0.111380\n",
            "\n",
            "Test set: Avg. loss: 0.0794, Accuracy: 9753/10000 (98%)\n",
            "\n",
            "Train Epoch: 3 [0/60000]\tLoss: 0.086189\n",
            "Train Epoch: 3 [640/60000]\tLoss: 0.237809\n",
            "Train Epoch: 3 [1280/60000]\tLoss: 0.220825\n",
            "Train Epoch: 3 [1920/60000]\tLoss: 0.204161\n",
            "Train Epoch: 3 [2560/60000]\tLoss: 0.123781\n",
            "Train Epoch: 3 [3200/60000]\tLoss: 0.245786\n",
            "Train Epoch: 3 [3840/60000]\tLoss: 0.142281\n",
            "Train Epoch: 3 [4480/60000]\tLoss: 0.187482\n",
            "Train Epoch: 3 [5120/60000]\tLoss: 0.288376\n",
            "Train Epoch: 3 [5760/60000]\tLoss: 0.078231\n",
            "Train Epoch: 3 [6400/60000]\tLoss: 0.109455\n",
            "Train Epoch: 3 [7040/60000]\tLoss: 0.207460\n",
            "Train Epoch: 3 [7680/60000]\tLoss: 0.161381\n",
            "Train Epoch: 3 [8320/60000]\tLoss: 0.162792\n",
            "Train Epoch: 3 [8960/60000]\tLoss: 0.138750\n",
            "Train Epoch: 3 [9600/60000]\tLoss: 0.359033\n",
            "Train Epoch: 3 [10240/60000]\tLoss: 0.187867\n",
            "Train Epoch: 3 [10880/60000]\tLoss: 0.142334\n",
            "Train Epoch: 3 [11520/60000]\tLoss: 0.092443\n",
            "Train Epoch: 3 [12160/60000]\tLoss: 0.067897\n",
            "Train Epoch: 3 [12800/60000]\tLoss: 0.162787\n",
            "Train Epoch: 3 [13440/60000]\tLoss: 0.100635\n",
            "Train Epoch: 3 [14080/60000]\tLoss: 0.092539\n",
            "Train Epoch: 3 [14720/60000]\tLoss: 0.332286\n",
            "Train Epoch: 3 [15360/60000]\tLoss: 0.105222\n",
            "Train Epoch: 3 [16000/60000]\tLoss: 0.145236\n",
            "Train Epoch: 3 [16640/60000]\tLoss: 0.187048\n",
            "Train Epoch: 3 [17280/60000]\tLoss: 0.155468\n",
            "Train Epoch: 3 [17920/60000]\tLoss: 0.187118\n",
            "Train Epoch: 3 [18560/60000]\tLoss: 0.037406\n",
            "Train Epoch: 3 [19200/60000]\tLoss: 0.177003\n",
            "Train Epoch: 3 [19840/60000]\tLoss: 0.237026\n",
            "Train Epoch: 3 [20480/60000]\tLoss: 0.094477\n",
            "Train Epoch: 3 [21120/60000]\tLoss: 0.137140\n",
            "Train Epoch: 3 [21760/60000]\tLoss: 0.208690\n",
            "Train Epoch: 3 [22400/60000]\tLoss: 0.061538\n",
            "Train Epoch: 3 [23040/60000]\tLoss: 0.022960\n",
            "Train Epoch: 3 [23680/60000]\tLoss: 0.174174\n",
            "Train Epoch: 3 [24320/60000]\tLoss: 0.026733\n",
            "Train Epoch: 3 [24960/60000]\tLoss: 0.084003\n",
            "Train Epoch: 3 [25600/60000]\tLoss: 0.121335\n",
            "Train Epoch: 3 [26240/60000]\tLoss: 0.024054\n",
            "Train Epoch: 3 [26880/60000]\tLoss: 0.099673\n",
            "Train Epoch: 3 [27520/60000]\tLoss: 0.319536\n",
            "Train Epoch: 3 [28160/60000]\tLoss: 0.078626\n",
            "Train Epoch: 3 [28800/60000]\tLoss: 0.130674\n",
            "Train Epoch: 3 [29440/60000]\tLoss: 0.109779\n",
            "Train Epoch: 3 [30080/60000]\tLoss: 0.092257\n",
            "Train Epoch: 3 [30720/60000]\tLoss: 0.065436\n",
            "Train Epoch: 3 [31360/60000]\tLoss: 0.082142\n",
            "Train Epoch: 3 [32000/60000]\tLoss: 0.161474\n",
            "Train Epoch: 3 [32640/60000]\tLoss: 0.115309\n",
            "Train Epoch: 3 [33280/60000]\tLoss: 0.309180\n",
            "Train Epoch: 3 [33920/60000]\tLoss: 0.074772\n",
            "Train Epoch: 3 [34560/60000]\tLoss: 0.112382\n",
            "Train Epoch: 3 [35200/60000]\tLoss: 0.409609\n",
            "Train Epoch: 3 [35840/60000]\tLoss: 0.096239\n",
            "Train Epoch: 3 [36480/60000]\tLoss: 0.159962\n",
            "Train Epoch: 3 [37120/60000]\tLoss: 0.156416\n",
            "Train Epoch: 3 [37760/60000]\tLoss: 0.062927\n",
            "Train Epoch: 3 [38400/60000]\tLoss: 0.076256\n",
            "Train Epoch: 3 [39040/60000]\tLoss: 0.217527\n",
            "Train Epoch: 3 [39680/60000]\tLoss: 0.159297\n",
            "Train Epoch: 3 [40320/60000]\tLoss: 0.244577\n",
            "Train Epoch: 3 [40960/60000]\tLoss: 0.083447\n",
            "Train Epoch: 3 [41600/60000]\tLoss: 0.079089\n",
            "Train Epoch: 3 [42240/60000]\tLoss: 0.198734\n",
            "Train Epoch: 3 [42880/60000]\tLoss: 0.190714\n",
            "Train Epoch: 3 [43520/60000]\tLoss: 0.102628\n",
            "Train Epoch: 3 [44160/60000]\tLoss: 0.095183\n",
            "Train Epoch: 3 [44800/60000]\tLoss: 0.087127\n",
            "Train Epoch: 3 [45440/60000]\tLoss: 0.174139\n",
            "Train Epoch: 3 [46080/60000]\tLoss: 0.044304\n",
            "Train Epoch: 3 [46720/60000]\tLoss: 0.212994\n",
            "Train Epoch: 3 [47360/60000]\tLoss: 0.117044\n",
            "Train Epoch: 3 [48000/60000]\tLoss: 0.133490\n",
            "Train Epoch: 3 [48640/60000]\tLoss: 0.067414\n",
            "Train Epoch: 3 [49280/60000]\tLoss: 0.313512\n",
            "Train Epoch: 3 [49920/60000]\tLoss: 0.071483\n",
            "Train Epoch: 3 [50560/60000]\tLoss: 0.121417\n",
            "Train Epoch: 3 [51200/60000]\tLoss: 0.085258\n",
            "Train Epoch: 3 [51840/60000]\tLoss: 0.096161\n",
            "Train Epoch: 3 [52480/60000]\tLoss: 0.087441\n",
            "Train Epoch: 3 [53120/60000]\tLoss: 0.275518\n",
            "Train Epoch: 3 [53760/60000]\tLoss: 0.190267\n",
            "Train Epoch: 3 [54400/60000]\tLoss: 0.039553\n",
            "Train Epoch: 3 [55040/60000]\tLoss: 0.068703\n",
            "Train Epoch: 3 [55680/60000]\tLoss: 0.158552\n",
            "Train Epoch: 3 [56320/60000]\tLoss: 0.152990\n",
            "Train Epoch: 3 [56960/60000]\tLoss: 0.341253\n",
            "Train Epoch: 3 [57600/60000]\tLoss: 0.175933\n",
            "Train Epoch: 3 [58240/60000]\tLoss: 0.073965\n",
            "Train Epoch: 3 [58880/60000]\tLoss: 0.122532\n",
            "Train Epoch: 3 [59520/60000]\tLoss: 0.040390\n",
            "\n",
            "Test set: Avg. loss: 0.0748, Accuracy: 9769/10000 (98%)\n",
            "\n"
          ]
        }
      ]
    },
    {
      "cell_type": "code",
      "source": [
        "# Run network on data we got before and show predictions\n",
        "output = model(example_data)\n",
        "\n",
        "fig = plt.figure()\n",
        "for i in range(10):\n",
        "  plt.subplot(5,5,i+1)\n",
        "  plt.tight_layout()\n",
        "  plt.imshow(example_data[i][0], cmap='gray', interpolation='none')\n",
        "  plt.title(\"Prediction: {}\".format(\n",
        "    output.data.max(1, keepdim=True)[1][i].item()))\n",
        "  plt.xticks([])\n",
        "  plt.yticks([])\n",
        "plt.show()"
      ],
      "metadata": {
        "id": "o7fRUAy9Se1B",
        "colab": {
          "base_uri": "https://localhost:8080/",
          "height": 245
        },
        "outputId": "fbfd6b37-9b3e-4766-cf53-550a1c5a4a40"
      },
      "execution_count": 24,
      "outputs": [
        {
          "output_type": "stream",
          "name": "stderr",
          "text": [
            "/tmp/ipython-input-3005136420.py:38: UserWarning: Implicit dimension choice for log_softmax has been deprecated. Change the call to include dim=X as an argument.\n",
            "  x = F.log_softmax(x)\n"
          ]
        },
        {
          "output_type": "display_data",
          "data": {
            "text/plain": [
              "<Figure size 640x480 with 10 Axes>"
            ],
            "image/png": "[encoded data removed]"
          },
          "metadata": {}
        }
      ]
    },
    {
      "cell_type": "code",
      "source": [],
      "metadata": {
        "id": "_yTrDfHB59l8"
      },
      "execution_count": null,
      "outputs": []
    }
  ]
}