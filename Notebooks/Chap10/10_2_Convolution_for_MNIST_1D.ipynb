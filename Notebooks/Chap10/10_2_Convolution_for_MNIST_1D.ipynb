{
  "nbformat": 4,
  "nbformat_minor": 0,
  "metadata": {
    "colab": {
      "provenance": [],
      "include_colab_link": true
    },
    "kernelspec": {
      "name": "python3",
      "display_name": "Python 3"
    },
    "language_info": {
      "name": "python"
    }
  },
  "cells": [
    {
      "cell_type": "markdown",
      "metadata": {
        "id": "view-in-github",
        "colab_type": "text"
      },
      "source": [
        "<a href=\"https://colab.research.google.com/github/conradmutai/DeepLearningSpecializationNotebooks/blob/main/Notebooks/Chap10/10_2_Convolution_for_MNIST_1D.ipynb\" target=\"_parent\"><img src=\"https://colab.research.google.com/assets/colab-badge.svg\" alt=\"Open In Colab\"/></a>"
      ]
    },
    {
      "cell_type": "markdown",
      "source": [
        "# **Notebook 10.2: Convolution for MNIST-1D**\n",
        "\n",
        "This notebook investigates a 1D convolutional network for MNIST-1D as in figure 10.7 and 10.8a.\n",
        "\n",
        "Work through the cells below, running each cell in turn. In various places you will see the words \"TODO\". Follow the instructions at these places and make predictions about what is going to happen or write code to complete the functions.\n",
        "\n",
        "Contact me at udlbookmail@gmail.com if you find any mistakes or have any suggestions.\n",
        "\n"
      ],
      "metadata": {
        "id": "t9vk9Elugvmi"
      }
    },
    {
      "cell_type": "code",
      "source": [
        "# Run this if you're in a Colab to install MNIST 1D repository\n",
        "!pip install git+https://github.com/greydanus/mnist1d"
      ],
      "metadata": {
        "id": "D5yLObtZCi9J",
        "colab": {
          "base_uri": "https://localhost:8080/"
        },
        "outputId": "71a80ae1-a5df-43b5-ed2e-8ad238fba4fd"
      },
      "execution_count": 28,
      "outputs": [
        {
          "output_type": "stream",
          "name": "stdout",
          "text": [
            "Collecting git+https://github.com/greydanus/mnist1d\n",
            "  Cloning https://github.com/greydanus/mnist1d to /tmp/pip-req-build-iziyoby7\n",
            "  Running command git clone --filter=blob:none --quiet https://github.com/greydanus/mnist1d /tmp/pip-req-build-iziyoby7\n",
            "  Resolved https://github.com/greydanus/mnist1d to commit 7878d96082abd200c546a07a4101fa90b30fdf7e\n",
            "  Installing build dependencies ... \u001b[?25l\u001b[?25hdone\n",
            "  Getting requirements to build wheel ... \u001b[?25l\u001b[?25hdone\n",
            "  Preparing metadata (pyproject.toml) ... \u001b[?25l\u001b[?25hdone\n",
            "Requirement already satisfied: requests in /usr/local/lib/python3.12/dist-packages (from mnist1d==0.0.2.post16) (2.32.4)\n",
            "Requirement already satisfied: numpy in /usr/local/lib/python3.12/dist-packages (from mnist1d==0.0.2.post16) (2.0.2)\n",
            "Requirement already satisfied: matplotlib in /usr/local/lib/python3.12/dist-packages (from mnist1d==0.0.2.post16) (3.10.0)\n",
            "Requirement already satisfied: scipy in /usr/local/lib/python3.12/dist-packages (from mnist1d==0.0.2.post16) (1.16.2)\n",
            "Requirement already satisfied: contourpy>=1.0.1 in /usr/local/lib/python3.12/dist-packages (from matplotlib->mnist1d==0.0.2.post16) (1.3.3)\n",
            "Requirement already satisfied: cycler>=0.10 in /usr/local/lib/python3.12/dist-packages (from matplotlib->mnist1d==0.0.2.post16) (0.12.1)\n",
            "Requirement already satisfied: fonttools>=4.22.0 in /usr/local/lib/python3.12/dist-packages (from matplotlib->mnist1d==0.0.2.post16) (4.60.1)\n",
            "Requirement already satisfied: kiwisolver>=1.3.1 in /usr/local/lib/python3.12/dist-packages (from matplotlib->mnist1d==0.0.2.post16) (1.4.9)\n",
            "Requirement already satisfied: packaging>=20.0 in /usr/local/lib/python3.12/dist-packages (from matplotlib->mnist1d==0.0.2.post16) (25.0)\n",
            "Requirement already satisfied: pillow>=8 in /usr/local/lib/python3.12/dist-packages (from matplotlib->mnist1d==0.0.2.post16) (11.3.0)\n",
            "Requirement already satisfied: pyparsing>=2.3.1 in /usr/local/lib/python3.12/dist-packages (from matplotlib->mnist1d==0.0.2.post16) (3.2.5)\n",
            "Requirement already satisfied: python-dateutil>=2.7 in /usr/local/lib/python3.12/dist-packages (from matplotlib->mnist1d==0.0.2.post16) (2.9.0.post0)\n",
            "Requirement already satisfied: charset_normalizer<4,>=2 in /usr/local/lib/python3.12/dist-packages (from requests->mnist1d==0.0.2.post16) (3.4.3)\n",
            "Requirement already satisfied: idna<4,>=2.5 in /usr/local/lib/python3.12/dist-packages (from requests->mnist1d==0.0.2.post16) (3.10)\n",
            "Requirement already satisfied: urllib3<3,>=1.21.1 in /usr/local/lib/python3.12/dist-packages (from requests->mnist1d==0.0.2.post16) (2.5.0)\n",
            "Requirement already satisfied: certifi>=2017.4.17 in /usr/local/lib/python3.12/dist-packages (from requests->mnist1d==0.0.2.post16) (2025.10.5)\n",
            "Requirement already satisfied: six>=1.5 in /usr/local/lib/python3.12/dist-packages (from python-dateutil>=2.7->matplotlib->mnist1d==0.0.2.post16) (1.17.0)\n"
          ]
        }
      ]
    },
    {
      "cell_type": "code",
      "source": [
        "import numpy as np\n",
        "import os\n",
        "import torch, torch.nn as nn\n",
        "from torch.utils.data import TensorDataset, DataLoader\n",
        "from torch.optim.lr_scheduler import StepLR\n",
        "import matplotlib.pyplot as plt\n",
        "import mnist1d\n",
        "import random"
      ],
      "metadata": {
        "id": "YrXWAH7sUWvU"
      },
      "execution_count": 29,
      "outputs": []
    },
    {
      "cell_type": "code",
      "source": [
        "args = mnist1d.data.get_dataset_args()\n",
        "data = mnist1d.data.get_dataset(args, path='./mnist1d_data.pkl', download=False, regenerate=False)\n",
        "\n",
        "# The training and test input and outputs are in\n",
        "# data['x'], data['y'], data['x_test'], and data['y_test']\n",
        "print(\"Examples in training set: {}\".format(len(data['y'])))\n",
        "print(\"Examples in test set: {}\".format(len(data['y_test'])))\n",
        "print(\"Length of each example: {}\".format(data['x'].shape[-1]))"
      ],
      "metadata": {
        "id": "twI72ZCrCt5z",
        "colab": {
          "base_uri": "https://localhost:8080/"
        },
        "outputId": "fad60524-0df3-409b-da8c-33bbbe927ab9"
      },
      "execution_count": 30,
      "outputs": [
        {
          "output_type": "stream",
          "name": "stdout",
          "text": [
            "Successfully loaded data from ./mnist1d_data.pkl\n",
            "Examples in training set: 4000\n",
            "Examples in test set: 1000\n",
            "Length of each example: 40\n"
          ]
        }
      ]
    },
    {
      "cell_type": "code",
      "source": [
        "# Load in the data\n",
        "train_data_x = data['x'].transpose()\n",
        "train_data_y = data['y']\n",
        "val_data_x = data['x_test'].transpose()\n",
        "val_data_y = data['y_test']\n",
        "# Print out sizes\n",
        "print(\"Train data: %d examples (columns), each of which has %d dimensions (rows)\"%((train_data_x.shape[1],train_data_x.shape[0])))\n",
        "print(\"Validation data: %d examples (columns), each of which has %d dimensions (rows)\"%((val_data_x.shape[1],val_data_x.shape[0])))"
      ],
      "metadata": {
        "id": "8bKADvLHbiV5",
        "colab": {
          "base_uri": "https://localhost:8080/"
        },
        "outputId": "4634883d-cbde-44d8-bf85-3a4ef78f45d7"
      },
      "execution_count": 31,
      "outputs": [
        {
          "output_type": "stream",
          "name": "stdout",
          "text": [
            "Train data: 4000 examples (columns), each of which has 40 dimensions (rows)\n",
            "Validation data: 1000 examples (columns), each of which has 40 dimensions (rows)\n"
          ]
        }
      ]
    },
    {
      "cell_type": "markdown",
      "source": [
        "Define the network"
      ],
      "metadata": {
        "id": "_sFvRDGrl4qe"
      }
    },
    {
      "cell_type": "code",
      "source": [
        "# There are 40 input dimensions and 10 output dimensions for this data\n",
        "# The inputs correspond to the 40 offsets in the MNIST1D template.\n",
        "D_i = 40\n",
        "# The outputs correspond to the 10 digits\n",
        "D_o = 10\n",
        "\n",
        "\n",
        "# TODO Create a model with the following layers\n",
        "# 1. Convolutional layer, (input=length 40 and 1 channel, kernel size 3, stride 2, padding=\"valid\", 15 output channels )\n",
        "# 2. ReLU\n",
        "# 3. Convolutional layer, (input=length 19 and 15 channels, kernel size 3, stride 2, padding=\"valid\", 15 output channels )\n",
        "# 4. ReLU\n",
        "# 5. Convolutional layer, (input=length 9 and 15 channels, kernel size 3, stride 2, padding=\"valid\", 15 output channels)\n",
        "# 6. ReLU\n",
        "# 7. Flatten (converts 4x15) to length 60\n",
        "# 8. Linear layer (input size = 60, output size = 10)\n",
        "# References:\n",
        "# https://pytorch.org/docs/1.13/generated/torch.nn.Conv1d.html?highlight=conv1d#torch.nn.Conv1d\n",
        "# https://pytorch.org/docs/stable/generated/torch.nn.Flatten.html\n",
        "# https://pytorch.org/docs/1.13/generated/torch.nn.Linear.html?highlight=linear#torch.nn.Linear\n",
        "\n",
        "# NOTE THAT THE CONVOLUTIONAL LAYERS NEED TO TAKE THE NUMBER OF INPUT CHANNELS AS A PARAMETER\n",
        "# AND NOT THE INPUT SIZE.\n",
        "\n",
        "# Replace the following function:\n",
        "model = nn.Sequential(\n",
        "nn.Flatten(),\n",
        "nn.Linear(40, 100),\n",
        "nn.ReLU(),\n",
        "nn.Linear(100, 100),\n",
        "nn.ReLU(),\n",
        "nn.Linear(100, 10))\n",
        "\n",
        "model_conv = nn.Sequential(\n",
        "    nn.Conv1d(in_channels=1, out_channels=15, kernel_size=3, stride=2, padding=\"valid\"),\n",
        "    nn.ReLU(),\n",
        "    nn.Conv1d(in_channels=15, out_channels=15, kernel_size=3, stride=2, padding=\"valid\"),\n",
        "    nn.ReLU(),\n",
        "    nn.Conv1d(in_channels=15, out_channels=15, kernel_size=3, stride=2, padding=\"valid\"),\n",
        "    nn.Flatten(),\n",
        "    nn.Linear(60, 10))\n",
        "\n",
        "\n",
        "\n",
        "\n"
      ],
      "metadata": {
        "id": "FslroPJJffrh"
      },
      "execution_count": 32,
      "outputs": []
    },
    {
      "cell_type": "code",
      "source": [
        "# He initialization of weights\n",
        "def weights_init(layer_in):\n",
        "  if isinstance(layer_in, nn.Linear):\n",
        "    nn.init.kaiming_uniform_(layer_in.weight)\n",
        "    layer_in.bias.data.fill_(0.0)"
      ],
      "metadata": {
        "id": "YgLaex1pfhqz"
      },
      "execution_count": 33,
      "outputs": []
    },
    {
      "cell_type": "code",
      "source": [
        "# choose cross entropy loss function (equation 5.24 in the loss notes)\n",
        "loss_function = nn.CrossEntropyLoss()\n",
        "# construct SGD optimizer and initialize learning rate and momentum\n",
        "optimizer = torch.optim.SGD(model.parameters(), lr = 0.05, momentum=0.9)\n",
        "# object that decreases learning rate by half every 20 epochs\n",
        "scheduler = StepLR(optimizer, step_size=20, gamma=0.5)\n",
        "# create 100 dummy data points and store in data loader class\n",
        "x_train = torch.tensor(train_data_x.transpose().astype('float32'))\n",
        "y_train = torch.tensor(train_data_y.astype('long')).long()\n",
        "x_val= torch.tensor(val_data_x.transpose().astype('float32'))\n",
        "y_val = torch.tensor(val_data_y.astype('long')).long()\n",
        "\n",
        "# load the data into a class that creates the batches\n",
        "data_loader = DataLoader(TensorDataset(x_train,y_train), batch_size=100, shuffle=True, worker_init_fn=np.random.seed(1))\n",
        "\n",
        "# Initialize model weights\n",
        "model.apply(weights_init)\n",
        "\n",
        "# loop over the dataset n_epoch times\n",
        "n_epoch = 100\n",
        "# store the loss and the % correct at each epoch\n",
        "losses_train = np.zeros((n_epoch))\n",
        "errors_train = np.zeros((n_epoch))\n",
        "losses_val = np.zeros((n_epoch))\n",
        "errors_val = np.zeros((n_epoch))\n",
        "\n",
        "for epoch in range(n_epoch):\n",
        "  # loop over batches\n",
        "  for i, data in enumerate(data_loader):\n",
        "    # retrieve inputs and labels for this batch\n",
        "    x_batch, y_batch = data\n",
        "    # zero the parameter gradients\n",
        "    optimizer.zero_grad()\n",
        "    # forward pass -- calculate model output\n",
        "    pred = model(x_batch[:,None,:])\n",
        "    # compute the loss\n",
        "    loss = loss_function(pred, y_batch)\n",
        "    # backward pass\n",
        "    loss.backward()\n",
        "    # SGD update\n",
        "    optimizer.step()\n",
        "\n",
        "  # Run whole dataset to get statistics -- normally wouldn't do this\n",
        "  pred_train = model(x_train[:,None,:])\n",
        "  pred_val = model(x_val[:,None,:])\n",
        "  _, predicted_train_class = torch.max(pred_train.data, 1)\n",
        "  _, predicted_val_class = torch.max(pred_val.data, 1)\n",
        "  errors_train[epoch] = 100 - 100 * (predicted_train_class == y_train).float().sum() / len(y_train)\n",
        "  errors_val[epoch]= 100 - 100 * (predicted_val_class == y_val).float().sum() / len(y_val)\n",
        "  losses_train[epoch] = loss_function(pred_train, y_train).item()\n",
        "  losses_val[epoch]= loss_function(pred_val, y_val).item()\n",
        "  print(f'Epoch {epoch:5d}, train loss {losses_train[epoch]:.6f}, train error {errors_train[epoch]:3.2f},  val loss {losses_val[epoch]:.6f}, percent error {errors_val[epoch]:3.2f}')\n",
        "\n",
        "  # tell scheduler to consider updating learning rate\n",
        "  scheduler.step()\n",
        "\n",
        "# Plot the results\n",
        "fig, ax = plt.subplots()\n",
        "ax.plot(errors_train,'r-',label='train')\n",
        "ax.plot(errors_val,'b-',label='validation')\n",
        "ax.set_ylim(0,100); ax.set_xlim(0,n_epoch)\n",
        "ax.set_xlabel('Epoch'); ax.set_ylabel('Error')\n",
        "ax.set_title('Part I: Validation Result %3.2f'%(errors_val[-1]))\n",
        "ax.legend()\n",
        "plt.show()"
      ],
      "metadata": {
        "id": "NYw8I_3mmX5c",
        "colab": {
          "base_uri": "https://localhost:8080/",
          "height": 1000
        },
        "outputId": "d349dc03-47e2-4c45-a240-06abbf684213"
      },
      "execution_count": 34,
      "outputs": [
        {
          "output_type": "stream",
          "name": "stdout",
          "text": [
            "Epoch     0, train loss 1.570847, train error 61.25,  val loss 1.652479, percent error 67.90\n",
            "Epoch     1, train loss 1.332285, train error 49.83,  val loss 1.477197, percent error 57.70\n",
            "Epoch     2, train loss 1.186067, train error 44.45,  val loss 1.385378, percent error 51.80\n",
            "Epoch     3, train loss 1.030486, train error 37.72,  val loss 1.286348, percent error 49.00\n",
            "Epoch     4, train loss 0.895213, train error 31.20,  val loss 1.211209, percent error 46.70\n",
            "Epoch     5, train loss 0.812128, train error 28.95,  val loss 1.203893, percent error 46.20\n",
            "Epoch     6, train loss 0.687961, train error 22.55,  val loss 1.140136, percent error 43.70\n",
            "Epoch     7, train loss 0.618171, train error 20.53,  val loss 1.151311, percent error 44.60\n",
            "Epoch     8, train loss 0.558360, train error 18.85,  val loss 1.143046, percent error 43.80\n",
            "Epoch     9, train loss 0.494183, train error 15.50,  val loss 1.145637, percent error 41.00\n",
            "Epoch    10, train loss 0.438868, train error 14.30,  val loss 1.130561, percent error 40.40\n",
            "Epoch    11, train loss 0.397568, train error 12.95,  val loss 1.203720, percent error 41.40\n",
            "Epoch    12, train loss 0.432248, train error 15.68,  val loss 1.211061, percent error 41.10\n",
            "Epoch    13, train loss 0.310657, train error 9.43,  val loss 1.219494, percent error 40.00\n",
            "Epoch    14, train loss 0.264216, train error 7.30,  val loss 1.224944, percent error 39.70\n",
            "Epoch    15, train loss 0.266080, train error 7.60,  val loss 1.305556, percent error 40.70\n",
            "Epoch    16, train loss 0.201860, train error 5.50,  val loss 1.239105, percent error 37.90\n",
            "Epoch    17, train loss 0.209034, train error 5.88,  val loss 1.344482, percent error 38.80\n",
            "Epoch    18, train loss 0.153916, train error 3.43,  val loss 1.439916, percent error 38.70\n",
            "Epoch    19, train loss 0.134760, train error 2.75,  val loss 1.369192, percent error 38.10\n",
            "Epoch    20, train loss 0.076630, train error 0.60,  val loss 1.414127, percent error 38.10\n",
            "Epoch    21, train loss 0.058858, train error 0.25,  val loss 1.392231, percent error 38.30\n",
            "Epoch    22, train loss 0.051799, train error 0.12,  val loss 1.417745, percent error 38.00\n",
            "Epoch    23, train loss 0.047694, train error 0.10,  val loss 1.439250, percent error 38.50\n",
            "Epoch    24, train loss 0.041843, train error 0.03,  val loss 1.459864, percent error 38.70\n",
            "Epoch    25, train loss 0.038717, train error 0.03,  val loss 1.489416, percent error 37.50\n",
            "Epoch    26, train loss 0.035497, train error 0.03,  val loss 1.505066, percent error 37.90\n",
            "Epoch    27, train loss 0.033080, train error 0.03,  val loss 1.517632, percent error 38.30\n",
            "Epoch    28, train loss 0.030025, train error 0.03,  val loss 1.545719, percent error 37.50\n",
            "Epoch    29, train loss 0.028542, train error 0.00,  val loss 1.555926, percent error 38.00\n",
            "Epoch    30, train loss 0.026239, train error 0.00,  val loss 1.566781, percent error 38.10\n",
            "Epoch    31, train loss 0.024811, train error 0.00,  val loss 1.588723, percent error 37.90\n",
            "Epoch    32, train loss 0.023436, train error 0.00,  val loss 1.599509, percent error 38.40\n",
            "Epoch    33, train loss 0.021889, train error 0.00,  val loss 1.617756, percent error 37.90\n",
            "Epoch    34, train loss 0.020548, train error 0.00,  val loss 1.626723, percent error 38.10\n",
            "Epoch    35, train loss 0.019591, train error 0.00,  val loss 1.644084, percent error 38.40\n",
            "Epoch    36, train loss 0.018651, train error 0.00,  val loss 1.653893, percent error 38.30\n",
            "Epoch    37, train loss 0.017582, train error 0.00,  val loss 1.665707, percent error 37.90\n",
            "Epoch    38, train loss 0.016949, train error 0.00,  val loss 1.675534, percent error 37.80\n",
            "Epoch    39, train loss 0.016085, train error 0.00,  val loss 1.696061, percent error 37.80\n",
            "Epoch    40, train loss 0.015636, train error 0.00,  val loss 1.699535, percent error 37.80\n",
            "Epoch    41, train loss 0.015210, train error 0.00,  val loss 1.705884, percent error 37.70\n",
            "Epoch    42, train loss 0.014843, train error 0.00,  val loss 1.709823, percent error 37.70\n",
            "Epoch    43, train loss 0.014609, train error 0.00,  val loss 1.714604, percent error 37.80\n",
            "Epoch    44, train loss 0.014284, train error 0.00,  val loss 1.720774, percent error 37.40\n",
            "Epoch    45, train loss 0.013979, train error 0.00,  val loss 1.723701, percent error 38.00\n",
            "Epoch    46, train loss 0.013752, train error 0.00,  val loss 1.732409, percent error 37.70\n",
            "Epoch    47, train loss 0.013484, train error 0.00,  val loss 1.730060, percent error 37.70\n",
            "Epoch    48, train loss 0.013214, train error 0.00,  val loss 1.740667, percent error 37.80\n",
            "Epoch    49, train loss 0.012977, train error 0.00,  val loss 1.746912, percent error 37.80\n",
            "Epoch    50, train loss 0.012755, train error 0.00,  val loss 1.748556, percent error 38.10\n",
            "Epoch    51, train loss 0.012523, train error 0.00,  val loss 1.756951, percent error 37.80\n",
            "Epoch    52, train loss 0.012299, train error 0.00,  val loss 1.758673, percent error 37.80\n",
            "Epoch    53, train loss 0.012101, train error 0.00,  val loss 1.763988, percent error 37.70\n",
            "Epoch    54, train loss 0.011929, train error 0.00,  val loss 1.770728, percent error 37.70\n",
            "Epoch    55, train loss 0.011692, train error 0.00,  val loss 1.770710, percent error 37.80\n",
            "Epoch    56, train loss 0.011496, train error 0.00,  val loss 1.776930, percent error 37.70\n",
            "Epoch    57, train loss 0.011315, train error 0.00,  val loss 1.783042, percent error 37.80\n",
            "Epoch    58, train loss 0.011130, train error 0.00,  val loss 1.787192, percent error 37.80\n",
            "Epoch    59, train loss 0.010963, train error 0.00,  val loss 1.792500, percent error 37.60\n",
            "Epoch    60, train loss 0.010845, train error 0.00,  val loss 1.793134, percent error 37.60\n",
            "Epoch    61, train loss 0.010751, train error 0.00,  val loss 1.794590, percent error 37.70\n",
            "Epoch    62, train loss 0.010672, train error 0.00,  val loss 1.797392, percent error 37.60\n",
            "Epoch    63, train loss 0.010588, train error 0.00,  val loss 1.801190, percent error 37.90\n",
            "Epoch    64, train loss 0.010506, train error 0.00,  val loss 1.802332, percent error 37.80\n",
            "Epoch    65, train loss 0.010427, train error 0.00,  val loss 1.803873, percent error 37.70\n",
            "Epoch    66, train loss 0.010358, train error 0.00,  val loss 1.806704, percent error 37.80\n",
            "Epoch    67, train loss 0.010300, train error 0.00,  val loss 1.808901, percent error 37.60\n",
            "Epoch    68, train loss 0.010198, train error 0.00,  val loss 1.809371, percent error 37.60\n",
            "Epoch    69, train loss 0.010121, train error 0.00,  val loss 1.812526, percent error 37.70\n",
            "Epoch    70, train loss 0.010049, train error 0.00,  val loss 1.813394, percent error 37.90\n",
            "Epoch    71, train loss 0.009976, train error 0.00,  val loss 1.815641, percent error 37.70\n",
            "Epoch    72, train loss 0.009905, train error 0.00,  val loss 1.818002, percent error 37.90\n",
            "Epoch    73, train loss 0.009834, train error 0.00,  val loss 1.820834, percent error 37.90\n",
            "Epoch    74, train loss 0.009763, train error 0.00,  val loss 1.822866, percent error 38.00\n",
            "Epoch    75, train loss 0.009699, train error 0.00,  val loss 1.823847, percent error 37.90\n",
            "Epoch    76, train loss 0.009631, train error 0.00,  val loss 1.826056, percent error 38.00\n",
            "Epoch    77, train loss 0.009558, train error 0.00,  val loss 1.827059, percent error 37.70\n",
            "Epoch    78, train loss 0.009490, train error 0.00,  val loss 1.830770, percent error 37.90\n",
            "Epoch    79, train loss 0.009423, train error 0.00,  val loss 1.832159, percent error 38.00\n",
            "Epoch    80, train loss 0.009386, train error 0.00,  val loss 1.832600, percent error 37.80\n",
            "Epoch    81, train loss 0.009354, train error 0.00,  val loss 1.833845, percent error 38.00\n",
            "Epoch    82, train loss 0.009321, train error 0.00,  val loss 1.834140, percent error 37.80\n",
            "Epoch    83, train loss 0.009289, train error 0.00,  val loss 1.835527, percent error 38.00\n",
            "Epoch    84, train loss 0.009257, train error 0.00,  val loss 1.836351, percent error 38.00\n",
            "Epoch    85, train loss 0.009224, train error 0.00,  val loss 1.837254, percent error 38.00\n",
            "Epoch    86, train loss 0.009194, train error 0.00,  val loss 1.839215, percent error 38.00\n",
            "Epoch    87, train loss 0.009163, train error 0.00,  val loss 1.839724, percent error 38.10\n",
            "Epoch    88, train loss 0.009133, train error 0.00,  val loss 1.840180, percent error 37.90\n",
            "Epoch    89, train loss 0.009102, train error 0.00,  val loss 1.841750, percent error 38.00\n",
            "Epoch    90, train loss 0.009070, train error 0.00,  val loss 1.841919, percent error 38.00\n",
            "Epoch    91, train loss 0.009040, train error 0.00,  val loss 1.843020, percent error 38.10\n",
            "Epoch    92, train loss 0.009010, train error 0.00,  val loss 1.844163, percent error 37.80\n",
            "Epoch    93, train loss 0.008980, train error 0.00,  val loss 1.845263, percent error 38.10\n",
            "Epoch    94, train loss 0.008950, train error 0.00,  val loss 1.846195, percent error 38.10\n",
            "Epoch    95, train loss 0.008920, train error 0.00,  val loss 1.846793, percent error 37.90\n",
            "Epoch    96, train loss 0.008891, train error 0.00,  val loss 1.848368, percent error 38.10\n",
            "Epoch    97, train loss 0.008863, train error 0.00,  val loss 1.848633, percent error 38.00\n",
            "Epoch    98, train loss 0.008832, train error 0.00,  val loss 1.849195, percent error 38.20\n",
            "Epoch    99, train loss 0.008804, train error 0.00,  val loss 1.850876, percent error 38.10\n"
          ]
        },
        {
          "output_type": "display_data",
          "data": {
            "text/plain": [
              "<Figure size 640x480 with 1 Axes>"
            ],
            "image/png": "[encoded data removed]"
          },
          "metadata": {}
        }
      ]
    },
    {
      "cell_type": "code",
      "source": [
        "loss_function = nn.CrossEntropyLoss()\n",
        "optimizer = torch.optim.SGD(model_conv.parameters(), lr = 0.05, momentum=0.9)\n",
        "scheduler = StepLR(optimizer, step_size=20, gamma=0.5)\n",
        "x_train = torch.tensor(train_data_x.transpose().astype('float32'))\n",
        "y_train = torch.tensor(train_data_y.astype('long')).long()\n",
        "x_val= torch.tensor(val_data_x.transpose().astype('float32'))\n",
        "y_val = torch.tensor(val_data_y.astype('long')).long()\n",
        "\n",
        "data_loader = DataLoader(TensorDataset(x_train,y_train), batch_size=100, shuffle=True, worker_init_fn=np.random.seed(1))\n",
        "\n",
        "model_conv.apply(weights_init)\n",
        "\n",
        "n_epoch = 100\n",
        "losses_train = np.zeros((n_epoch))\n",
        "errors_train = np.zeros((n_epoch))\n",
        "losses_val = np.zeros((n_epoch))\n",
        "errors_val = np.zeros((n_epoch))\n",
        "\n",
        "for epoch in range(n_epoch):\n",
        "  for i, data in enumerate(data_loader):\n",
        "    x_batch, y_batch = data\n",
        "    optimizer.zero_grad()\n",
        "    pred = model_conv(x_batch[:,None,:])\n",
        "    loss = loss_function(pred, y_batch)\n",
        "    loss.backward()\n",
        "    optimizer.step()\n",
        "\n",
        "  pred_train = model_conv(x_train[:,None,:])\n",
        "  pred_val = model_conv(x_val[:,None,:])\n",
        "  _, predicted_train_class = torch.max(pred_train.data, 1)\n",
        "  _, predicted_val_class = torch.max(pred_val.data, 1)\n",
        "  errors_train[epoch] = 100 - 100 * (predicted_train_class == y_train).float().sum() / len(y_train)\n",
        "  errors_val[epoch]= 100 - 100 * (predicted_val_class == y_val).float().sum() / len(y_val)\n",
        "  losses_train[epoch] = loss_function(pred_train, y_train).item()\n",
        "  losses_val[epoch]= loss_function(pred_val, y_val).item()\n",
        "  print(f'Epoch {epoch:5d}, train loss {losses_train[epoch]:.6f}, train error {errors_train[epoch]:3.2f},  val loss {losses_val[epoch]:.6f}, percent error {errors_val[epoch]:3.2f}')\n",
        "\n",
        "  scheduler.step()\n",
        "\n",
        "fig, ax = plt.subplots()\n",
        "ax.plot(errors_train,'r-',label='train')\n",
        "ax.plot(errors_val,'b-',label='validation')\n",
        "ax.set_ylim(0,100); ax.set_xlim(0,n_epoch)\n",
        "ax.set_xlabel('Epoch'); ax.set_ylabel('Error')\n",
        "ax.set_title('Part I: Validation Result %3.2f'%(errors_val[-1]))\n",
        "ax.legend()\n",
        "plt.show()"
      ],
      "metadata": {
        "colab": {
          "base_uri": "https://localhost:8080/",
          "height": 1000
        },
        "id": "p3irZvMwX_CD",
        "outputId": "d7cbada2-29fd-4be5-8b60-852259b4374e"
      },
      "execution_count": 35,
      "outputs": [
        {
          "output_type": "stream",
          "name": "stdout",
          "text": [
            "Epoch     0, train loss 1.782040, train error 71.28,  val loss 1.785982, percent error 73.30\n",
            "Epoch     1, train loss 1.429682, train error 57.30,  val loss 1.432410, percent error 59.70\n",
            "Epoch     2, train loss 1.356168, train error 55.33,  val loss 1.366191, percent error 57.90\n",
            "Epoch     3, train loss 1.253260, train error 53.15,  val loss 1.289417, percent error 55.70\n",
            "Epoch     4, train loss 1.223974, train error 49.72,  val loss 1.240937, percent error 49.00\n",
            "Epoch     5, train loss 1.177413, train error 48.92,  val loss 1.202047, percent error 49.20\n",
            "Epoch     6, train loss 1.164283, train error 46.28,  val loss 1.174617, percent error 45.70\n",
            "Epoch     7, train loss 0.954208, train error 35.53,  val loss 0.960858, percent error 37.30\n",
            "Epoch     8, train loss 0.798871, train error 32.22,  val loss 0.838496, percent error 33.20\n",
            "Epoch     9, train loss 0.748798, train error 28.90,  val loss 0.781848, percent error 29.20\n",
            "Epoch    10, train loss 0.661929, train error 25.82,  val loss 0.710424, percent error 27.90\n",
            "Epoch    11, train loss 0.686375, train error 27.15,  val loss 0.774502, percent error 29.00\n",
            "Epoch    12, train loss 0.549628, train error 20.55,  val loss 0.625731, percent error 23.70\n",
            "Epoch    13, train loss 0.499743, train error 18.45,  val loss 0.594270, percent error 22.30\n",
            "Epoch    14, train loss 0.470118, train error 17.40,  val loss 0.560937, percent error 21.50\n",
            "Epoch    15, train loss 0.374679, train error 13.18,  val loss 0.493167, percent error 18.20\n",
            "Epoch    16, train loss 0.350338, train error 13.32,  val loss 0.459480, percent error 16.60\n",
            "Epoch    17, train loss 0.320399, train error 10.95,  val loss 0.490472, percent error 17.90\n",
            "Epoch    18, train loss 0.296673, train error 10.47,  val loss 0.455458, percent error 16.50\n",
            "Epoch    19, train loss 0.268871, train error 9.47,  val loss 0.438056, percent error 14.70\n",
            "Epoch    20, train loss 0.195362, train error 6.50,  val loss 0.351250, percent error 12.10\n",
            "Epoch    21, train loss 0.188843, train error 6.35,  val loss 0.389894, percent error 13.40\n",
            "Epoch    22, train loss 0.206851, train error 7.10,  val loss 0.415693, percent error 13.10\n",
            "Epoch    23, train loss 0.161046, train error 4.93,  val loss 0.352105, percent error 11.40\n",
            "Epoch    24, train loss 0.164836, train error 5.85,  val loss 0.384309, percent error 12.90\n",
            "Epoch    25, train loss 0.165480, train error 5.38,  val loss 0.373531, percent error 12.50\n",
            "Epoch    26, train loss 0.146664, train error 4.57,  val loss 0.349381, percent error 11.10\n",
            "Epoch    27, train loss 0.186143, train error 6.40,  val loss 0.421724, percent error 14.30\n",
            "Epoch    28, train loss 0.128198, train error 3.88,  val loss 0.330351, percent error 11.20\n",
            "Epoch    29, train loss 0.168635, train error 6.35,  val loss 0.397543, percent error 11.80\n",
            "Epoch    30, train loss 0.122787, train error 3.93,  val loss 0.334707, percent error 11.60\n",
            "Epoch    31, train loss 0.122182, train error 3.93,  val loss 0.333393, percent error 11.60\n",
            "Epoch    32, train loss 0.115585, train error 3.55,  val loss 0.331285, percent error 11.00\n",
            "Epoch    33, train loss 0.109075, train error 3.18,  val loss 0.340710, percent error 10.90\n",
            "Epoch    34, train loss 0.107131, train error 3.28,  val loss 0.307874, percent error 9.60\n",
            "Epoch    35, train loss 0.125478, train error 4.28,  val loss 0.360517, percent error 11.80\n",
            "Epoch    36, train loss 0.104566, train error 3.38,  val loss 0.319814, percent error 10.70\n",
            "Epoch    37, train loss 0.092487, train error 2.70,  val loss 0.320768, percent error 9.60\n",
            "Epoch    38, train loss 0.102829, train error 3.28,  val loss 0.346325, percent error 11.10\n",
            "Epoch    39, train loss 0.122616, train error 4.38,  val loss 0.395489, percent error 11.10\n",
            "Epoch    40, train loss 0.099325, train error 3.47,  val loss 0.348751, percent error 11.00\n",
            "Epoch    41, train loss 0.076736, train error 2.07,  val loss 0.322111, percent error 9.70\n",
            "Epoch    42, train loss 0.083858, train error 2.45,  val loss 0.327123, percent error 10.60\n",
            "Epoch    43, train loss 0.077651, train error 2.30,  val loss 0.326249, percent error 10.20\n",
            "Epoch    44, train loss 0.068571, train error 1.72,  val loss 0.315511, percent error 9.70\n",
            "Epoch    45, train loss 0.072826, train error 1.97,  val loss 0.311334, percent error 9.60\n",
            "Epoch    46, train loss 0.076194, train error 2.30,  val loss 0.331796, percent error 10.70\n",
            "Epoch    47, train loss 0.073555, train error 2.10,  val loss 0.337895, percent error 10.30\n",
            "Epoch    48, train loss 0.068677, train error 1.80,  val loss 0.322622, percent error 10.10\n",
            "Epoch    49, train loss 0.064198, train error 1.75,  val loss 0.318872, percent error 9.90\n",
            "Epoch    50, train loss 0.071341, train error 2.22,  val loss 0.334234, percent error 10.40\n",
            "Epoch    51, train loss 0.061092, train error 1.47,  val loss 0.321713, percent error 9.70\n",
            "Epoch    52, train loss 0.070384, train error 1.95,  val loss 0.336934, percent error 9.70\n",
            "Epoch    53, train loss 0.063597, train error 1.72,  val loss 0.316140, percent error 9.40\n",
            "Epoch    54, train loss 0.070471, train error 2.07,  val loss 0.337799, percent error 10.00\n",
            "Epoch    55, train loss 0.057065, train error 1.45,  val loss 0.331911, percent error 9.90\n",
            "Epoch    56, train loss 0.061837, train error 1.68,  val loss 0.351375, percent error 10.00\n",
            "Epoch    57, train loss 0.058080, train error 1.50,  val loss 0.324416, percent error 9.60\n",
            "Epoch    58, train loss 0.055439, train error 1.43,  val loss 0.321991, percent error 9.20\n",
            "Epoch    59, train loss 0.062238, train error 2.03,  val loss 0.367701, percent error 10.30\n",
            "Epoch    60, train loss 0.050254, train error 1.20,  val loss 0.328613, percent error 9.40\n",
            "Epoch    61, train loss 0.050423, train error 1.15,  val loss 0.336970, percent error 9.70\n",
            "Epoch    62, train loss 0.048506, train error 1.20,  val loss 0.341995, percent error 10.20\n",
            "Epoch    63, train loss 0.047939, train error 1.10,  val loss 0.333468, percent error 9.90\n",
            "Epoch    64, train loss 0.047582, train error 1.00,  val loss 0.334895, percent error 9.50\n",
            "Epoch    65, train loss 0.046425, train error 1.07,  val loss 0.340197, percent error 9.70\n",
            "Epoch    66, train loss 0.046126, train error 1.03,  val loss 0.338415, percent error 9.60\n",
            "Epoch    67, train loss 0.046611, train error 1.10,  val loss 0.337281, percent error 9.60\n",
            "Epoch    68, train loss 0.046701, train error 0.93,  val loss 0.340685, percent error 9.80\n",
            "Epoch    69, train loss 0.045107, train error 1.00,  val loss 0.349978, percent error 10.30\n",
            "Epoch    70, train loss 0.044739, train error 0.95,  val loss 0.342550, percent error 9.70\n",
            "Epoch    71, train loss 0.047812, train error 1.25,  val loss 0.347454, percent error 9.70\n",
            "Epoch    72, train loss 0.043276, train error 0.97,  val loss 0.348924, percent error 9.80\n",
            "Epoch    73, train loss 0.045668, train error 1.15,  val loss 0.354981, percent error 9.70\n",
            "Epoch    74, train loss 0.042925, train error 0.80,  val loss 0.345939, percent error 9.80\n",
            "Epoch    75, train loss 0.042103, train error 0.95,  val loss 0.343124, percent error 9.70\n",
            "Epoch    76, train loss 0.043083, train error 0.88,  val loss 0.358508, percent error 10.30\n",
            "Epoch    77, train loss 0.042026, train error 0.90,  val loss 0.357875, percent error 9.80\n",
            "Epoch    78, train loss 0.046699, train error 1.30,  val loss 0.351133, percent error 10.00\n",
            "Epoch    79, train loss 0.041682, train error 0.85,  val loss 0.350388, percent error 9.40\n",
            "Epoch    80, train loss 0.040244, train error 0.78,  val loss 0.350301, percent error 9.60\n",
            "Epoch    81, train loss 0.039668, train error 0.82,  val loss 0.354765, percent error 9.60\n",
            "Epoch    82, train loss 0.039429, train error 0.85,  val loss 0.353907, percent error 9.60\n",
            "Epoch    83, train loss 0.039195, train error 0.82,  val loss 0.354916, percent error 10.00\n",
            "Epoch    84, train loss 0.039727, train error 0.78,  val loss 0.357534, percent error 9.80\n",
            "Epoch    85, train loss 0.038752, train error 0.80,  val loss 0.356634, percent error 9.60\n",
            "Epoch    86, train loss 0.038874, train error 0.82,  val loss 0.357684, percent error 9.80\n",
            "Epoch    87, train loss 0.038202, train error 0.78,  val loss 0.357334, percent error 9.50\n",
            "Epoch    88, train loss 0.038228, train error 0.78,  val loss 0.360816, percent error 9.70\n",
            "Epoch    89, train loss 0.038023, train error 0.72,  val loss 0.355665, percent error 9.60\n",
            "Epoch    90, train loss 0.037961, train error 0.75,  val loss 0.358336, percent error 9.50\n",
            "Epoch    91, train loss 0.038187, train error 0.75,  val loss 0.356800, percent error 9.60\n",
            "Epoch    92, train loss 0.037880, train error 0.72,  val loss 0.363172, percent error 10.20\n",
            "Epoch    93, train loss 0.037097, train error 0.70,  val loss 0.358009, percent error 9.80\n",
            "Epoch    94, train loss 0.036937, train error 0.68,  val loss 0.356412, percent error 9.80\n",
            "Epoch    95, train loss 0.037098, train error 0.68,  val loss 0.359955, percent error 9.60\n",
            "Epoch    96, train loss 0.036736, train error 0.75,  val loss 0.359637, percent error 9.70\n",
            "Epoch    97, train loss 0.036426, train error 0.62,  val loss 0.360504, percent error 9.60\n",
            "Epoch    98, train loss 0.037479, train error 0.72,  val loss 0.368221, percent error 9.80\n",
            "Epoch    99, train loss 0.037227, train error 0.70,  val loss 0.367469, percent error 10.00\n"
          ]
        },
        {
          "output_type": "display_data",
          "data": {
            "text/plain": [
              "<Figure size 640x480 with 1 Axes>"
            ],
            "image/png": "[encoded data removed]"
          },
          "metadata": {}
        }
      ]
    },
    {
      "cell_type": "code",
      "source": [],
      "metadata": {
        "id": "VcLTmrIftT99"
      },
      "execution_count": 35,
      "outputs": []
    }
  ]
}