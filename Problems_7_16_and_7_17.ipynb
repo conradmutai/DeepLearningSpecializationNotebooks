{
  "nbformat": 4,
  "nbformat_minor": 0,
  "metadata": {
    "colab": {
      "provenance": [],
      "authorship_tag": "ABX9TyN2HJimVzKc7AZp+nbisOKl",
      "include_colab_link": true
    },
    "kernelspec": {
      "name": "python3",
      "display_name": "Python 3"
    },
    "language_info": {
      "name": "python"
    }
  },
  "cells": [
    {
      "cell_type": "markdown",
      "metadata": {
        "id": "view-in-github",
        "colab_type": "text"
      },
      "source": [
        "<a href=\"https://colab.research.google.com/github/conradmutai/DeepLearningSpecializationNotebooks/blob/main/Problems_7_16_and_7_17.ipynb\" target=\"_parent\"><img src=\"https://colab.research.google.com/assets/colab-badge.svg\" alt=\"Open In Colab\"/></a>"
      ]
    },
    {
      "cell_type": "markdown",
      "source": [
        "# Problem 7.16 - 7.17 From Understanding Deep Learning Book"
      ],
      "metadata": {
        "id": "h4x48zp9th7I"
      }
    },
    {
      "cell_type": "markdown",
      "source": [
        "Import PyTorch and several tools from the framework"
      ],
      "metadata": {
        "id": "HlGjBd29tuOF"
      }
    },
    {
      "cell_type": "code",
      "execution_count": 60,
      "metadata": {
        "id": "_YNLQyiktRwr"
      },
      "outputs": [],
      "source": [
        "import torch, torch.nn as nn\n",
        "import matplotlib.pyplot as plt\n",
        "import numpy as np\n",
        "from torch.utils.data import TensorDataset, DataLoader\n",
        "from torch.optim.lr_scheduler import StepLR"
      ]
    },
    {
      "cell_type": "markdown",
      "source": [
        "We need to then initialize the size of the input and output layers in addition to the number of hidden layers and their sizes."
      ],
      "metadata": {
        "id": "P5GE6dcaupzL"
      }
    },
    {
      "cell_type": "code",
      "source": [
        "# define input size, hidden layer size, output size\n",
        "D_i, D_k, D_o = 10, 40, 5"
      ],
      "metadata": {
        "id": "Ix-GpoL2uqwl"
      },
      "execution_count": 61,
      "outputs": []
    },
    {
      "cell_type": "markdown",
      "source": [
        "Now we have to create a model for this to operation."
      ],
      "metadata": {
        "id": "q3prgn9tu1wh"
      }
    },
    {
      "cell_type": "code",
      "source": [
        "# a sequential model means that the layers will run after another\n",
        "model = nn.Sequential(\n",
        "    nn.Linear(D_i, D_k), # Creates input layer\n",
        "    nn.ReLU(),\n",
        "    nn.Linear(D_k, D_k), # Pre-activation layer taking values from the previous layer\n",
        "    nn.ReLU(),\n",
        "    nn.Linear(D_k, D_o) # output layer\n",
        ")"
      ],
      "metadata": {
        "id": "mUUJJRO3uvHV"
      },
      "execution_count": 62,
      "outputs": []
    },
    {
      "cell_type": "markdown",
      "source": [
        "Now we need to commence the He intialization of the weights. Meaning that the variance will change based on the layers providing a change in weights in order to prevent the vanishing gradient problem from occuring when training the data set."
      ],
      "metadata": {
        "id": "Ntzjmv12vt1F"
      }
    },
    {
      "cell_type": "code",
      "source": [
        "# He initialization of weights\n",
        "# sets initial value for the weights\n",
        "def weights_init(layer_in):\n",
        "  # checks if this is a linear layer\n",
        "  if isinstance(layer_in, nn.Linear):\n",
        "    # function for He initialization in the form of normal distribution\n",
        "    nn.init.kaiming_normal_(layer_in.weight)\n",
        "    # initializes the bias as zero\n",
        "    layer_in.bias.data.fill_(0.0)\n",
        "# applies the initial weight to the model\n",
        "model.apply(weights_init)"
      ],
      "metadata": {
        "colab": {
          "base_uri": "https://localhost:8080/"
        },
        "id": "KeHaBzqDvsVO",
        "outputId": "5a6f4532-fab1-4129-b3b0-fcd89009ba49"
      },
      "execution_count": 63,
      "outputs": [
        {
          "output_type": "execute_result",
          "data": {
            "text/plain": [
              "Sequential(\n",
              "  (0): Linear(in_features=10, out_features=40, bias=True)\n",
              "  (1): ReLU()\n",
              "  (2): Linear(in_features=40, out_features=40, bias=True)\n",
              "  (3): ReLU()\n",
              "  (4): Linear(in_features=40, out_features=5, bias=True)\n",
              ")"
            ]
          },
          "metadata": {},
          "execution_count": 63
        }
      ]
    },
    {
      "cell_type": "markdown",
      "source": [
        "Proceeding that we have to choose a least squares loss function, construct a Stochastic Gradient Descent algorithm and initialize a learning rate and momentum before we start the procedure of training the algorithm."
      ],
      "metadata": {
        "id": "oVtL3JTwycHo"
      }
    },
    {
      "cell_type": "code",
      "source": [
        "# choose least squares loss function\n",
        "criterion = nn.MSELoss()\n",
        "# construct SGD optimizer and initliaze learning rate and momentum\n",
        "optimizer = torch.optim.SGD(model.parameters(), lr=0.1, momentum=0.9)"
      ],
      "metadata": {
        "id": "f6Qj1ut0ya23"
      },
      "execution_count": 64,
      "outputs": []
    },
    {
      "cell_type": "markdown",
      "source": [
        "Dynamically reduce the learning rate every 10 epochs (every 10 batches that has run through the network)"
      ],
      "metadata": {
        "id": "GKeaZMkSzcAr"
      }
    },
    {
      "cell_type": "code",
      "source": [
        "# object that decreases learning rate by half every 10 epochs\n",
        "scheduler = StepLR(optimizer, step_size=10, gamma=0.5)"
      ],
      "metadata": {
        "id": "klDgLB-7zH32"
      },
      "execution_count": 65,
      "outputs": []
    },
    {
      "cell_type": "markdown",
      "source": [
        "For this data set we will randomly choose 100 random data points and store it in a data loader class."
      ],
      "metadata": {
        "id": "BAUiquoyz4Yo"
      }
    },
    {
      "cell_type": "code",
      "source": [
        "x = torch.randn(100, D_i)\n",
        "y = torch.randn(100, D_o)\n",
        "data_loader = DataLoader(TensorDataset(x, y), batch_size=10, shuffle=True)"
      ],
      "metadata": {
        "id": "JUXdeXZ6zw39"
      },
      "execution_count": 66,
      "outputs": []
    },
    {
      "cell_type": "markdown",
      "source": [
        "We need to create a list that stores the epochs and the losses in order to plot it."
      ],
      "metadata": {
        "id": "4n1i6vOdcb1l"
      }
    },
    {
      "cell_type": "code",
      "source": [
        "epoch_loss_list = []"
      ],
      "metadata": {
        "id": "s2sIB0GzckMf"
      },
      "execution_count": 67,
      "outputs": []
    },
    {
      "cell_type": "markdown",
      "source": [
        "After initializing everything we can now run the model."
      ],
      "metadata": {
        "id": "Y9L4Zcpf0JBx"
      }
    },
    {
      "cell_type": "code",
      "source": [
        "# loop over the dataset 100 times thus covering every input from x dataset\n",
        "for epoch in range(100):\n",
        "  epoch_loss = 0.0\n",
        "  # loop over batches\n",
        "  for i, data in enumerate(data_loader):\n",
        "    # retrieve inputs and labels for this batch\n",
        "    x_batch, y_batch = data\n",
        "    # zero the parameter gradients\n",
        "    optimizer.zero_grad()\n",
        "    # forward pass\n",
        "    pred = model(x_batch)\n",
        "    loss = criterion(pred, y_batch)\n",
        "    # backward pass\n",
        "    loss.backward()\n",
        "    # SGD update\n",
        "    optimizer.step()\n",
        "    # update statistics\n",
        "    epoch_loss += loss.item()\n",
        "\n",
        "  # add epochs to a list\n",
        "  average_loss = epoch_loss / len(data_loader)\n",
        "  epoch_loss_list.append(average_loss)\n",
        "  # print error\n",
        "  print(f'Epoch {epoch:5d}, loss {epoch_loss:.3f}')\n",
        "  # tell scheduler to consider updating learning rate\n",
        "  scheduler.step()"
      ],
      "metadata": {
        "colab": {
          "base_uri": "https://localhost:8080/"
        },
        "id": "gBjbcTzV0GXM",
        "outputId": "d11ded06-b4b0-4970-ffc3-b8be227422da"
      },
      "execution_count": 68,
      "outputs": [
        {
          "output_type": "stream",
          "name": "stdout",
          "text": [
            "Epoch     0, loss 18.130\n",
            "Epoch     1, loss 9.713\n",
            "Epoch     2, loss 9.108\n",
            "Epoch     3, loss 8.710\n",
            "Epoch     4, loss 8.275\n",
            "Epoch     5, loss 8.068\n",
            "Epoch     6, loss 7.770\n",
            "Epoch     7, loss 7.807\n",
            "Epoch     8, loss 7.614\n",
            "Epoch     9, loss 7.651\n",
            "Epoch    10, loss 7.155\n",
            "Epoch    11, loss 6.934\n",
            "Epoch    12, loss 6.833\n",
            "Epoch    13, loss 6.770\n",
            "Epoch    14, loss 6.584\n",
            "Epoch    15, loss 6.455\n",
            "Epoch    16, loss 6.379\n",
            "Epoch    17, loss 6.358\n",
            "Epoch    18, loss 6.288\n",
            "Epoch    19, loss 6.222\n",
            "Epoch    20, loss 6.149\n",
            "Epoch    21, loss 6.086\n",
            "Epoch    22, loss 6.076\n",
            "Epoch    23, loss 6.042\n",
            "Epoch    24, loss 6.024\n",
            "Epoch    25, loss 5.983\n",
            "Epoch    26, loss 5.996\n",
            "Epoch    27, loss 5.944\n",
            "Epoch    28, loss 5.904\n",
            "Epoch    29, loss 5.876\n",
            "Epoch    30, loss 5.839\n",
            "Epoch    31, loss 5.804\n",
            "Epoch    32, loss 5.787\n",
            "Epoch    33, loss 5.750\n",
            "Epoch    34, loss 5.718\n",
            "Epoch    35, loss 5.684\n",
            "Epoch    36, loss 5.671\n",
            "Epoch    37, loss 5.670\n",
            "Epoch    38, loss 5.636\n",
            "Epoch    39, loss 5.623\n",
            "Epoch    40, loss 5.585\n",
            "Epoch    41, loss 5.568\n",
            "Epoch    42, loss 5.556\n",
            "Epoch    43, loss 5.550\n",
            "Epoch    44, loss 5.543\n",
            "Epoch    45, loss 5.534\n",
            "Epoch    46, loss 5.528\n",
            "Epoch    47, loss 5.514\n",
            "Epoch    48, loss 5.504\n",
            "Epoch    49, loss 5.494\n",
            "Epoch    50, loss 5.485\n",
            "Epoch    51, loss 5.480\n",
            "Epoch    52, loss 5.476\n",
            "Epoch    53, loss 5.472\n",
            "Epoch    54, loss 5.471\n",
            "Epoch    55, loss 5.464\n",
            "Epoch    56, loss 5.463\n",
            "Epoch    57, loss 5.460\n",
            "Epoch    58, loss 5.456\n",
            "Epoch    59, loss 5.453\n",
            "Epoch    60, loss 5.444\n",
            "Epoch    61, loss 5.443\n",
            "Epoch    62, loss 5.441\n",
            "Epoch    63, loss 5.438\n",
            "Epoch    64, loss 5.436\n",
            "Epoch    65, loss 5.435\n",
            "Epoch    66, loss 5.433\n",
            "Epoch    67, loss 5.433\n",
            "Epoch    68, loss 5.431\n",
            "Epoch    69, loss 5.428\n",
            "Epoch    70, loss 5.425\n",
            "Epoch    71, loss 5.424\n",
            "Epoch    72, loss 5.422\n",
            "Epoch    73, loss 5.422\n",
            "Epoch    74, loss 5.421\n",
            "Epoch    75, loss 5.420\n",
            "Epoch    76, loss 5.419\n",
            "Epoch    77, loss 5.418\n",
            "Epoch    78, loss 5.417\n",
            "Epoch    79, loss 5.417\n",
            "Epoch    80, loss 5.415\n",
            "Epoch    81, loss 5.414\n",
            "Epoch    82, loss 5.414\n",
            "Epoch    83, loss 5.414\n",
            "Epoch    84, loss 5.413\n",
            "Epoch    85, loss 5.412\n",
            "Epoch    86, loss 5.412\n",
            "Epoch    87, loss 5.411\n",
            "Epoch    88, loss 5.411\n",
            "Epoch    89, loss 5.411\n",
            "Epoch    90, loss 5.410\n",
            "Epoch    91, loss 5.410\n",
            "Epoch    92, loss 5.409\n",
            "Epoch    93, loss 5.409\n",
            "Epoch    94, loss 5.409\n",
            "Epoch    95, loss 5.409\n",
            "Epoch    96, loss 5.408\n",
            "Epoch    97, loss 5.408\n",
            "Epoch    98, loss 5.408\n",
            "Epoch    99, loss 5.408\n"
          ]
        }
      ]
    },
    {
      "cell_type": "markdown",
      "source": [
        "## Problem 7.16"
      ],
      "metadata": {
        "id": "VOKaCq2n1Q1v"
      }
    },
    {
      "cell_type": "code",
      "source": [
        "plt.figure(figsize=(10, 6))\n",
        "plt.plot(range(1, 101), epoch_loss_list, marker='o', linestyle='-')\n",
        "plt.xlabel(\"Epochs\")\n",
        "plt.ylabel(\"Loss\")\n",
        "plt.title(\"Loss vs Epochs\")\n",
        "plt.grid(True)\n",
        "plt.show()"
      ],
      "metadata": {
        "colab": {
          "base_uri": "https://localhost:8080/",
          "height": 472
        },
        "id": "Kg7eORRS1OdK",
        "outputId": "939f9076-ffc0-47f7-9a5b-05595c9c8abd"
      },
      "execution_count": 69,
      "outputs": [
        {
          "output_type": "display_data",
          "data": {
            "text/plain": [
              "<Figure size 1000x600 with 1 Axes>"
            ],
            "image/png": "[encoded data removed]"
          },
          "metadata": {}
        }
      ]
    },
    {
      "cell_type": "markdown",
      "source": [
        "# Problem 7.17"
      ],
      "metadata": {
        "id": "ow8nx_f_g_-W"
      }
    },
    {
      "cell_type": "markdown",
      "source": [
        "First we need to change the y training dataset to a binary data set."
      ],
      "metadata": {
        "id": "vis-7SyKjpNI"
      }
    },
    {
      "cell_type": "code",
      "source": [
        "y = torch.randint(0, 2, size=(100, D_o)).float()"
      ],
      "metadata": {
        "id": "y7U_k0o7kG0c"
      },
      "execution_count": 70,
      "outputs": []
    },
    {
      "cell_type": "markdown",
      "source": [
        "Secondly, we need to change the network to only predict numbers between 0 and 1."
      ],
      "metadata": {
        "id": "gxFRI3PBkiT0"
      }
    },
    {
      "cell_type": "code",
      "source": [
        "model = nn.Sequential(\n",
        "    nn.Linear(D_i, D_k), # Creates input layer\n",
        "    nn.ReLU(),\n",
        "    nn.Linear(D_k, D_k), # Pre-activation layer taking values from the previous layer\n",
        "    nn.ReLU(),\n",
        "    nn.Linear(D_k, D_o),\n",
        "    nn.Sigmoid()\n",
        ")"
      ],
      "metadata": {
        "id": "GAbgO-Grkh2p"
      },
      "execution_count": 73,
      "outputs": []
    },
    {
      "cell_type": "markdown",
      "source": [
        "We also need to change the model loss function to a Binary Cross Entropy Loss function as we need to do this in order to ensure that we are using an appropriate loss model. We can do this by changing `.MSELoss()` to `.BCELoss()`."
      ],
      "metadata": {
        "id": "DOCi76Bkk7vu"
      }
    },
    {
      "cell_type": "code",
      "source": [
        "# choose binary cross entropy loss function\n",
        "criterion = nn.BCELoss()\n",
        "# construct SGD optimizer and initliaze learning rate and momentum\n",
        "optimizer = torch.optim.SGD(model.parameters(), lr=0.1, momentum=0.9)"
      ],
      "metadata": {
        "id": "IvIwdOzQlGXl"
      },
      "execution_count": 74,
      "outputs": []
    },
    {
      "cell_type": "markdown",
      "source": [
        "We then need to load the new data:"
      ],
      "metadata": {
        "id": "_iSBlEHXmdko"
      }
    },
    {
      "cell_type": "code",
      "source": [
        "data_loader = DataLoader(TensorDataset(x, y), batch_size=10, shuffle=True)"
      ],
      "metadata": {
        "id": "f_gLht8fmf53"
      },
      "execution_count": 77,
      "outputs": []
    },
    {
      "cell_type": "markdown",
      "source": [
        "We then want to now intiialize a new epochs loss list:"
      ],
      "metadata": {
        "id": "5tUf6x8hmlfM"
      }
    },
    {
      "cell_type": "code",
      "source": [
        "epoch_loss_list = []"
      ],
      "metadata": {
        "id": "VO2o5DuEm_0E"
      },
      "execution_count": 81,
      "outputs": []
    },
    {
      "cell_type": "markdown",
      "source": [
        "Now we can finally model the algorithm."
      ],
      "metadata": {
        "id": "ZTGBonYynJmo"
      }
    },
    {
      "cell_type": "code",
      "source": [
        "# loop over the dataset 100 times thus covering every input from x dataset\n",
        "for epoch in range(100):\n",
        "  epoch_loss = 0.0\n",
        "  # loop over batches\n",
        "  for i, data in enumerate(data_loader):\n",
        "    # retrieve inputs and labels for this batch\n",
        "    x_batch, y_batch = data\n",
        "    # zero the parameter gradients\n",
        "    optimizer.zero_grad()\n",
        "    # forward pass\n",
        "    pred = model(x_batch)\n",
        "    loss = criterion(pred, y_batch)\n",
        "    # backward pass\n",
        "    loss.backward()\n",
        "    # SGD update\n",
        "    optimizer.step()\n",
        "    # update statistics\n",
        "    epoch_loss += loss.item()\n",
        "\n",
        "  # add epochs to a list\n",
        "  average_loss = epoch_loss / len(data_loader)\n",
        "  epoch_loss_list.append(average_loss)\n",
        "  # print error\n",
        "  print(f'Epoch {epoch:5d}, loss {epoch_loss:.3f}')\n",
        "  # tell scheduler to consider updating learning rate\n",
        "  scheduler.step()"
      ],
      "metadata": {
        "colab": {
          "base_uri": "https://localhost:8080/"
        },
        "id": "-nULocMWZLwV",
        "outputId": "8f2aef0e-8dc5-46e9-ea5d-14343269582d"
      },
      "execution_count": 82,
      "outputs": [
        {
          "output_type": "stream",
          "name": "stdout",
          "text": [
            "Epoch     0, loss 0.027\n",
            "Epoch     1, loss 0.026\n",
            "Epoch     2, loss 0.026\n",
            "Epoch     3, loss 0.025\n",
            "Epoch     4, loss 0.025\n",
            "Epoch     5, loss 0.024\n",
            "Epoch     6, loss 0.024\n",
            "Epoch     7, loss 0.023\n",
            "Epoch     8, loss 0.023\n",
            "Epoch     9, loss 0.023\n",
            "Epoch    10, loss 0.022\n",
            "Epoch    11, loss 0.022\n",
            "Epoch    12, loss 0.022\n",
            "Epoch    13, loss 0.021\n",
            "Epoch    14, loss 0.021\n",
            "Epoch    15, loss 0.020\n",
            "Epoch    16, loss 0.020\n",
            "Epoch    17, loss 0.020\n",
            "Epoch    18, loss 0.019\n",
            "Epoch    19, loss 0.019\n",
            "Epoch    20, loss 0.019\n",
            "Epoch    21, loss 0.019\n",
            "Epoch    22, loss 0.018\n",
            "Epoch    23, loss 0.018\n",
            "Epoch    24, loss 0.018\n",
            "Epoch    25, loss 0.018\n",
            "Epoch    26, loss 0.017\n",
            "Epoch    27, loss 0.017\n",
            "Epoch    28, loss 0.017\n",
            "Epoch    29, loss 0.017\n",
            "Epoch    30, loss 0.016\n",
            "Epoch    31, loss 0.016\n",
            "Epoch    32, loss 0.016\n",
            "Epoch    33, loss 0.016\n",
            "Epoch    34, loss 0.015\n",
            "Epoch    35, loss 0.015\n",
            "Epoch    36, loss 0.015\n",
            "Epoch    37, loss 0.015\n",
            "Epoch    38, loss 0.015\n",
            "Epoch    39, loss 0.015\n",
            "Epoch    40, loss 0.014\n",
            "Epoch    41, loss 0.014\n",
            "Epoch    42, loss 0.014\n",
            "Epoch    43, loss 0.014\n",
            "Epoch    44, loss 0.014\n",
            "Epoch    45, loss 0.014\n",
            "Epoch    46, loss 0.013\n",
            "Epoch    47, loss 0.013\n",
            "Epoch    48, loss 0.013\n",
            "Epoch    49, loss 0.013\n",
            "Epoch    50, loss 0.013\n",
            "Epoch    51, loss 0.013\n",
            "Epoch    52, loss 0.012\n",
            "Epoch    53, loss 0.012\n",
            "Epoch    54, loss 0.012\n",
            "Epoch    55, loss 0.012\n",
            "Epoch    56, loss 0.012\n",
            "Epoch    57, loss 0.012\n",
            "Epoch    58, loss 0.012\n",
            "Epoch    59, loss 0.012\n",
            "Epoch    60, loss 0.011\n",
            "Epoch    61, loss 0.011\n",
            "Epoch    62, loss 0.011\n",
            "Epoch    63, loss 0.011\n",
            "Epoch    64, loss 0.011\n",
            "Epoch    65, loss 0.011\n",
            "Epoch    66, loss 0.011\n",
            "Epoch    67, loss 0.011\n",
            "Epoch    68, loss 0.011\n",
            "Epoch    69, loss 0.011\n",
            "Epoch    70, loss 0.010\n",
            "Epoch    71, loss 0.010\n",
            "Epoch    72, loss 0.010\n",
            "Epoch    73, loss 0.010\n",
            "Epoch    74, loss 0.010\n",
            "Epoch    75, loss 0.010\n",
            "Epoch    76, loss 0.010\n",
            "Epoch    77, loss 0.010\n",
            "Epoch    78, loss 0.010\n",
            "Epoch    79, loss 0.010\n",
            "Epoch    80, loss 0.010\n",
            "Epoch    81, loss 0.009\n",
            "Epoch    82, loss 0.009\n",
            "Epoch    83, loss 0.009\n",
            "Epoch    84, loss 0.009\n",
            "Epoch    85, loss 0.009\n",
            "Epoch    86, loss 0.009\n",
            "Epoch    87, loss 0.009\n",
            "Epoch    88, loss 0.009\n",
            "Epoch    89, loss 0.009\n",
            "Epoch    90, loss 0.009\n",
            "Epoch    91, loss 0.009\n",
            "Epoch    92, loss 0.009\n",
            "Epoch    93, loss 0.009\n",
            "Epoch    94, loss 0.008\n",
            "Epoch    95, loss 0.008\n",
            "Epoch    96, loss 0.008\n",
            "Epoch    97, loss 0.008\n",
            "Epoch    98, loss 0.008\n",
            "Epoch    99, loss 0.008\n"
          ]
        }
      ]
    },
    {
      "cell_type": "markdown",
      "source": [
        "Now we want to see how the model performs, with the weights dynamically shifting and Stochastic Gradient Descent being applied:"
      ],
      "metadata": {
        "id": "UqQVPKQjnW8h"
      }
    },
    {
      "cell_type": "code",
      "source": [
        "plt.figure(figsize=(10, 6))\n",
        "plt.plot(range(1, 101), epoch_loss_list, marker='o', linestyle='-')\n",
        "plt.xlabel(\"Epochs\")\n",
        "plt.ylabel(\"Loss\")\n",
        "plt.title(\"Loss vs Epochs\")\n",
        "plt.grid(True)\n",
        "plt.show()"
      ],
      "metadata": {
        "colab": {
          "base_uri": "https://localhost:8080/",
          "height": 453
        },
        "id": "0OPLnpFol3ET",
        "outputId": "9dbb7f16-e732-499e-f0cd-cf9ce5667def"
      },
      "execution_count": 83,
      "outputs": [
        {
          "output_type": "display_data",
          "data": {
            "text/plain": [
              "<Figure size 1000x600 with 1 Axes>"
            ],
            "image/png": "[encoded data removed]"
          },
          "metadata": {}
        }
      ]
    }
  ]
}